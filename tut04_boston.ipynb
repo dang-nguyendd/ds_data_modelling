{
 "cells": [
  {
   "cell_type": "code",
   "execution_count": 1,
   "metadata": {},
   "outputs": [],
   "source": [
    "import pandas as pd\n",
    "import numpy as np\n",
    "from sklearn.datasets import load_boston"
   ]
  },
  {
   "cell_type": "code",
   "execution_count": 2,
   "metadata": {},
   "outputs": [],
   "source": [
    "X, Y = load_boston(return_X_y=True)"
   ]
  },
  {
   "cell_type": "markdown",
   "metadata": {},
   "source": [
    "### Variables in the Boston Housing dataset\n",
    "1. CRIM - per capita crime rate by town\n",
    "2. ZN - proportion of residential land zoned for lots over 25,000 sq.ft.\n",
    "3. INDUS - proportion of non-retail business acres per town.\n",
    "4. CHAS - Charles River dummy variable (1 if tract bounds river; 0 otherwise)\n",
    "5. NOX - nitric oxides concentration (parts per 10 million)\n",
    "6. RM - average number of rooms per dwelling\n",
    "7. AGE - proportion of owner-occupied units built prior to 1940\n",
    "8. DIS - weighted distances to five Boston employment centres\n",
    "9. RAD - index of accessibility to radial highways\n",
    "10. TAX - full-value property-tax rate per USD 10,000\n",
    "11. PTRATIO - pupil-teacher ratio by town\n",
    "12. B - 1000(Bk - 0.63)^2 where Bk is the proportion of blacks by town\n",
    "13. LSTAT - % lower status of the population\n",
    "14. MEDV - Median value of owner-occupied homes in USD 1000's"
   ]
  },
  {
   "cell_type": "code",
   "execution_count": 3,
   "metadata": {},
   "outputs": [],
   "source": [
    "X = pd.DataFrame(X, columns=['CRIM','ZN','INDUS','CHAS','NOX','RM','AGE',\n",
    "                             'DIS','RAD','TAX','PTRATIO','BK','LSTAT'])"
   ]
  },
  {
   "cell_type": "code",
   "execution_count": 4,
   "metadata": {},
   "outputs": [],
   "source": [
    "Y = pd.DataFrame(Y,columns=[\"MEDV\"])"
   ]
  },
  {
   "cell_type": "code",
   "execution_count": 5,
   "metadata": {},
   "outputs": [],
   "source": [
    "df = pd.concat([X,Y],axis=1)"
   ]
  },
  {
   "cell_type": "code",
   "execution_count": 6,
   "metadata": {},
   "outputs": [
    {
     "data": {
      "text/html": [
       "<div>\n",
       "<style scoped>\n",
       "    .dataframe tbody tr th:only-of-type {\n",
       "        vertical-align: middle;\n",
       "    }\n",
       "\n",
       "    .dataframe tbody tr th {\n",
       "        vertical-align: top;\n",
       "    }\n",
       "\n",
       "    .dataframe thead th {\n",
       "        text-align: right;\n",
       "    }\n",
       "</style>\n",
       "<table border=\"1\" class=\"dataframe\">\n",
       "  <thead>\n",
       "    <tr style=\"text-align: right;\">\n",
       "      <th></th>\n",
       "      <th>CRIM</th>\n",
       "      <th>ZN</th>\n",
       "      <th>INDUS</th>\n",
       "      <th>CHAS</th>\n",
       "      <th>NOX</th>\n",
       "      <th>RM</th>\n",
       "      <th>AGE</th>\n",
       "      <th>DIS</th>\n",
       "      <th>RAD</th>\n",
       "      <th>TAX</th>\n",
       "      <th>PTRATIO</th>\n",
       "      <th>BK</th>\n",
       "      <th>LSTAT</th>\n",
       "      <th>MEDV</th>\n",
       "    </tr>\n",
       "  </thead>\n",
       "  <tbody>\n",
       "    <tr>\n",
       "      <th>0</th>\n",
       "      <td>0.00632</td>\n",
       "      <td>18.0</td>\n",
       "      <td>2.31</td>\n",
       "      <td>0.0</td>\n",
       "      <td>0.538</td>\n",
       "      <td>6.575</td>\n",
       "      <td>65.2</td>\n",
       "      <td>4.0900</td>\n",
       "      <td>1.0</td>\n",
       "      <td>296.0</td>\n",
       "      <td>15.3</td>\n",
       "      <td>396.90</td>\n",
       "      <td>4.98</td>\n",
       "      <td>24.0</td>\n",
       "    </tr>\n",
       "    <tr>\n",
       "      <th>1</th>\n",
       "      <td>0.02731</td>\n",
       "      <td>0.0</td>\n",
       "      <td>7.07</td>\n",
       "      <td>0.0</td>\n",
       "      <td>0.469</td>\n",
       "      <td>6.421</td>\n",
       "      <td>78.9</td>\n",
       "      <td>4.9671</td>\n",
       "      <td>2.0</td>\n",
       "      <td>242.0</td>\n",
       "      <td>17.8</td>\n",
       "      <td>396.90</td>\n",
       "      <td>9.14</td>\n",
       "      <td>21.6</td>\n",
       "    </tr>\n",
       "    <tr>\n",
       "      <th>2</th>\n",
       "      <td>0.02729</td>\n",
       "      <td>0.0</td>\n",
       "      <td>7.07</td>\n",
       "      <td>0.0</td>\n",
       "      <td>0.469</td>\n",
       "      <td>7.185</td>\n",
       "      <td>61.1</td>\n",
       "      <td>4.9671</td>\n",
       "      <td>2.0</td>\n",
       "      <td>242.0</td>\n",
       "      <td>17.8</td>\n",
       "      <td>392.83</td>\n",
       "      <td>4.03</td>\n",
       "      <td>34.7</td>\n",
       "    </tr>\n",
       "    <tr>\n",
       "      <th>3</th>\n",
       "      <td>0.03237</td>\n",
       "      <td>0.0</td>\n",
       "      <td>2.18</td>\n",
       "      <td>0.0</td>\n",
       "      <td>0.458</td>\n",
       "      <td>6.998</td>\n",
       "      <td>45.8</td>\n",
       "      <td>6.0622</td>\n",
       "      <td>3.0</td>\n",
       "      <td>222.0</td>\n",
       "      <td>18.7</td>\n",
       "      <td>394.63</td>\n",
       "      <td>2.94</td>\n",
       "      <td>33.4</td>\n",
       "    </tr>\n",
       "    <tr>\n",
       "      <th>4</th>\n",
       "      <td>0.06905</td>\n",
       "      <td>0.0</td>\n",
       "      <td>2.18</td>\n",
       "      <td>0.0</td>\n",
       "      <td>0.458</td>\n",
       "      <td>7.147</td>\n",
       "      <td>54.2</td>\n",
       "      <td>6.0622</td>\n",
       "      <td>3.0</td>\n",
       "      <td>222.0</td>\n",
       "      <td>18.7</td>\n",
       "      <td>396.90</td>\n",
       "      <td>5.33</td>\n",
       "      <td>36.2</td>\n",
       "    </tr>\n",
       "    <tr>\n",
       "      <th>...</th>\n",
       "      <td>...</td>\n",
       "      <td>...</td>\n",
       "      <td>...</td>\n",
       "      <td>...</td>\n",
       "      <td>...</td>\n",
       "      <td>...</td>\n",
       "      <td>...</td>\n",
       "      <td>...</td>\n",
       "      <td>...</td>\n",
       "      <td>...</td>\n",
       "      <td>...</td>\n",
       "      <td>...</td>\n",
       "      <td>...</td>\n",
       "      <td>...</td>\n",
       "    </tr>\n",
       "    <tr>\n",
       "      <th>501</th>\n",
       "      <td>0.06263</td>\n",
       "      <td>0.0</td>\n",
       "      <td>11.93</td>\n",
       "      <td>0.0</td>\n",
       "      <td>0.573</td>\n",
       "      <td>6.593</td>\n",
       "      <td>69.1</td>\n",
       "      <td>2.4786</td>\n",
       "      <td>1.0</td>\n",
       "      <td>273.0</td>\n",
       "      <td>21.0</td>\n",
       "      <td>391.99</td>\n",
       "      <td>9.67</td>\n",
       "      <td>22.4</td>\n",
       "    </tr>\n",
       "    <tr>\n",
       "      <th>502</th>\n",
       "      <td>0.04527</td>\n",
       "      <td>0.0</td>\n",
       "      <td>11.93</td>\n",
       "      <td>0.0</td>\n",
       "      <td>0.573</td>\n",
       "      <td>6.120</td>\n",
       "      <td>76.7</td>\n",
       "      <td>2.2875</td>\n",
       "      <td>1.0</td>\n",
       "      <td>273.0</td>\n",
       "      <td>21.0</td>\n",
       "      <td>396.90</td>\n",
       "      <td>9.08</td>\n",
       "      <td>20.6</td>\n",
       "    </tr>\n",
       "    <tr>\n",
       "      <th>503</th>\n",
       "      <td>0.06076</td>\n",
       "      <td>0.0</td>\n",
       "      <td>11.93</td>\n",
       "      <td>0.0</td>\n",
       "      <td>0.573</td>\n",
       "      <td>6.976</td>\n",
       "      <td>91.0</td>\n",
       "      <td>2.1675</td>\n",
       "      <td>1.0</td>\n",
       "      <td>273.0</td>\n",
       "      <td>21.0</td>\n",
       "      <td>396.90</td>\n",
       "      <td>5.64</td>\n",
       "      <td>23.9</td>\n",
       "    </tr>\n",
       "    <tr>\n",
       "      <th>504</th>\n",
       "      <td>0.10959</td>\n",
       "      <td>0.0</td>\n",
       "      <td>11.93</td>\n",
       "      <td>0.0</td>\n",
       "      <td>0.573</td>\n",
       "      <td>6.794</td>\n",
       "      <td>89.3</td>\n",
       "      <td>2.3889</td>\n",
       "      <td>1.0</td>\n",
       "      <td>273.0</td>\n",
       "      <td>21.0</td>\n",
       "      <td>393.45</td>\n",
       "      <td>6.48</td>\n",
       "      <td>22.0</td>\n",
       "    </tr>\n",
       "    <tr>\n",
       "      <th>505</th>\n",
       "      <td>0.04741</td>\n",
       "      <td>0.0</td>\n",
       "      <td>11.93</td>\n",
       "      <td>0.0</td>\n",
       "      <td>0.573</td>\n",
       "      <td>6.030</td>\n",
       "      <td>80.8</td>\n",
       "      <td>2.5050</td>\n",
       "      <td>1.0</td>\n",
       "      <td>273.0</td>\n",
       "      <td>21.0</td>\n",
       "      <td>396.90</td>\n",
       "      <td>7.88</td>\n",
       "      <td>11.9</td>\n",
       "    </tr>\n",
       "  </tbody>\n",
       "</table>\n",
       "<p>506 rows × 14 columns</p>\n",
       "</div>"
      ],
      "text/plain": [
       "        CRIM    ZN  INDUS  CHAS    NOX     RM   AGE     DIS  RAD    TAX  \\\n",
       "0    0.00632  18.0   2.31   0.0  0.538  6.575  65.2  4.0900  1.0  296.0   \n",
       "1    0.02731   0.0   7.07   0.0  0.469  6.421  78.9  4.9671  2.0  242.0   \n",
       "2    0.02729   0.0   7.07   0.0  0.469  7.185  61.1  4.9671  2.0  242.0   \n",
       "3    0.03237   0.0   2.18   0.0  0.458  6.998  45.8  6.0622  3.0  222.0   \n",
       "4    0.06905   0.0   2.18   0.0  0.458  7.147  54.2  6.0622  3.0  222.0   \n",
       "..       ...   ...    ...   ...    ...    ...   ...     ...  ...    ...   \n",
       "501  0.06263   0.0  11.93   0.0  0.573  6.593  69.1  2.4786  1.0  273.0   \n",
       "502  0.04527   0.0  11.93   0.0  0.573  6.120  76.7  2.2875  1.0  273.0   \n",
       "503  0.06076   0.0  11.93   0.0  0.573  6.976  91.0  2.1675  1.0  273.0   \n",
       "504  0.10959   0.0  11.93   0.0  0.573  6.794  89.3  2.3889  1.0  273.0   \n",
       "505  0.04741   0.0  11.93   0.0  0.573  6.030  80.8  2.5050  1.0  273.0   \n",
       "\n",
       "     PTRATIO      BK  LSTAT  MEDV  \n",
       "0       15.3  396.90   4.98  24.0  \n",
       "1       17.8  396.90   9.14  21.6  \n",
       "2       17.8  392.83   4.03  34.7  \n",
       "3       18.7  394.63   2.94  33.4  \n",
       "4       18.7  396.90   5.33  36.2  \n",
       "..       ...     ...    ...   ...  \n",
       "501     21.0  391.99   9.67  22.4  \n",
       "502     21.0  396.90   9.08  20.6  \n",
       "503     21.0  396.90   5.64  23.9  \n",
       "504     21.0  393.45   6.48  22.0  \n",
       "505     21.0  396.90   7.88  11.9  \n",
       "\n",
       "[506 rows x 14 columns]"
      ]
     },
     "execution_count": 6,
     "metadata": {},
     "output_type": "execute_result"
    }
   ],
   "source": [
    "df"
   ]
  },
  {
   "cell_type": "markdown",
   "metadata": {},
   "source": [
    "# Model 1"
   ]
  },
  {
   "cell_type": "code",
   "execution_count": 7,
   "metadata": {},
   "outputs": [],
   "source": [
    "from sklearn import linear_model\n",
    "import sklearn.metrics as metrics"
   ]
  },
  {
   "cell_type": "code",
   "execution_count": 8,
   "metadata": {},
   "outputs": [
    {
     "name": "stdout",
     "output_type": "stream",
     "text": [
      "404\n",
      "102\n"
     ]
    }
   ],
   "source": [
    "# train/test split with scikit-learn\n",
    "from sklearn.model_selection import train_test_split\n",
    "\n",
    "X_train, X_test, Y_train, Y_test = train_test_split(X, Y, test_size=0.2, random_state=0, shuffle=True)\n",
    "print(len(X_train))\n",
    "print(len(X_test))"
   ]
  },
  {
   "cell_type": "code",
   "execution_count": 9,
   "metadata": {},
   "outputs": [
    {
     "data": {
      "text/plain": [
       "LinearRegression()"
      ]
     },
     "execution_count": 9,
     "metadata": {},
     "output_type": "execute_result"
    }
   ],
   "source": [
    "# Train the model using the training sets\n",
    "model = linear_model.LinearRegression()\n",
    "model.fit(X_train, Y_train)"
   ]
  },
  {
   "cell_type": "code",
   "execution_count": 10,
   "metadata": {},
   "outputs": [],
   "source": [
    "# Make predictions using the testing set\n",
    "Y_pred = model.predict(X_test)"
   ]
  },
  {
   "cell_type": "code",
   "execution_count": 11,
   "metadata": {},
   "outputs": [
    {
     "name": "stdout",
     "output_type": "stream",
     "text": [
      "Coefficients: \n",
      " [[-1.19443447e-01  4.47799511e-02  5.48526168e-03  2.34080361e+00\n",
      "  -1.61236043e+01  3.70870901e+00 -3.12108178e-03 -1.38639737e+00\n",
      "   2.44178327e-01 -1.09896366e-02 -1.04592119e+00  8.11010693e-03\n",
      "  -4.92792725e-01]]\n",
      "Mean squared error: 33.45\n",
      "Coefficient of determination: 0.35\n"
     ]
    }
   ],
   "source": [
    "# The coefficients\n",
    "print('Coefficients: \\n', model.coef_)\n",
    "# The mean squared error\n",
    "print('Mean squared error: %.2f'\n",
    "      % metrics.mean_squared_error(Y_pred, Y_test))\n",
    "# The coefficient of determination: 1 is perfect prediction\n",
    "print('Coefficient of determination: %.2f'\n",
    "      % metrics.r2_score(Y_pred, Y_test))"
   ]
  },
  {
   "cell_type": "markdown",
   "metadata": {},
   "source": [
    "# Model 2"
   ]
  },
  {
   "cell_type": "code",
   "execution_count": 12,
   "metadata": {},
   "outputs": [],
   "source": [
    "from sklearn.preprocessing import PolynomialFeatures\n",
    "from sklearn.pipeline import Pipeline\n",
    "model = Pipeline([('poly', PolynomialFeatures(degree=2)),\n",
    "                  ('linear', linear_model.LinearRegression())])\n",
    "# fit to an order-2 polynomial data\n",
    "model = model.fit(X_train,Y_train)"
   ]
  },
  {
   "cell_type": "code",
   "execution_count": 13,
   "metadata": {},
   "outputs": [],
   "source": [
    "# Make predictions using the testing set\n",
    "Y_pred = model.predict(X_test)"
   ]
  },
  {
   "cell_type": "code",
   "execution_count": 14,
   "metadata": {},
   "outputs": [
    {
     "name": "stdout",
     "output_type": "stream",
     "text": [
      "Coefficients: \n",
      " [[ 1.07346026e+09 -2.97510205e+00  2.50017017e-01 -5.75261979e+00\n",
      "   1.46944572e+01  2.74617636e+01  7.40199263e+00  1.12613783e+00\n",
      "  -1.25447428e+01  1.58814891e+00  2.57078562e-02  3.99790890e+00\n",
      "  -1.36816479e-01 -1.46480161e+00  3.05609658e-03  2.84330181e-01\n",
      "   6.11066785e-01  1.38035009e+00 -2.89001788e-01  1.00766741e-01\n",
      "  -5.43540783e-03  2.08495666e-03  4.88227797e-01 -4.39740462e-02\n",
      "   4.34919849e-01 -1.98328444e-04  2.18121807e-02 -9.33846956e-04\n",
      "  -1.25699281e-03  7.38675176e-02 -1.67405073e+00 -7.68556797e-03\n",
      "  -1.31535227e-04 -8.45662161e-04 -4.79350216e-04  6.85393430e-04\n",
      "  -2.28277097e-02  2.07056574e-03 -3.07902288e-03  4.67327370e-02\n",
      "   5.45977285e-01 -3.49428109e-02  4.66222468e-01  1.84068925e-03\n",
      "   6.68200261e-02 -2.69658063e-01  3.09657143e-03 -1.36644525e-01\n",
      "   9.79344685e-03  1.22866400e-02  1.46944572e+01 -3.31269439e+01\n",
      "  -5.99197428e+00  4.72672498e-02 -1.30941051e-01  3.27906530e-01\n",
      "  -1.63366151e-02 -9.53696091e-01  9.89732641e-02 -4.24284122e-02\n",
      "  -6.39870286e+00  1.01701042e+01 -2.55061380e-01  1.64359055e+01\n",
      "  -2.93775928e+00  2.54547082e-01 -1.08062347e+01 -5.87251804e-02\n",
      "   1.40524359e+00  8.83071043e-01 -1.06602413e-01  4.89204998e-01\n",
      "   4.30522744e-02 -2.30132976e-02 -5.66555586e-01  5.50050137e-03\n",
      "  -1.29029115e-01  6.43259170e-04  1.35799741e-02  1.32655474e-02\n",
      "  -3.64659034e-04 -1.92131988e-02 -1.71959134e-04 -8.09016167e-03\n",
      "   3.98664919e-01 -2.70212536e-01  2.74261452e-03 -2.61998557e-01\n",
      "  -3.65662570e-04  9.54659312e-02 -1.21726119e-01  1.68841351e-02\n",
      "  -1.65483072e-01  2.89466651e-03 -2.84380848e-02 -1.94817711e-04\n",
      "   9.65962409e-03 -3.70534454e-04 -1.05551592e-03  5.87143114e-02\n",
      "   7.69100733e-03  8.87944466e-02  3.72210988e-05 -2.32232752e-04\n",
      "   8.49456106e-03]]\n",
      "Mean squared error: 25.22\n",
      "Coefficient of determination: 0.72\n"
     ]
    }
   ],
   "source": [
    "# The coefficients\n",
    "print('Coefficients: \\n', model.named_steps['linear'].coef_)\n",
    "# The mean squared error\n",
    "print('Mean squared error: %.2f'\n",
    "      % metrics.mean_squared_error(Y_pred, Y_test))\n",
    "# The coefficient of determination: 1 is perfect prediction\n",
    "print('Coefficient of determination: %.2f'\n",
    "      % metrics.r2_score(Y_pred, Y_test))"
   ]
  },
  {
   "cell_type": "markdown",
   "metadata": {},
   "source": [
    "# Model 3"
   ]
  },
  {
   "cell_type": "code",
   "execution_count": 15,
   "metadata": {},
   "outputs": [
    {
     "data": {
      "text/html": [
       "<style  type=\"text/css\" >\n",
       "#T_c51c9a68_2d5a_11eb_88a8_af456fec449arow0_col0,#T_c51c9a68_2d5a_11eb_88a8_af456fec449arow1_col1,#T_c51c9a68_2d5a_11eb_88a8_af456fec449arow2_col2,#T_c51c9a68_2d5a_11eb_88a8_af456fec449arow3_col3,#T_c51c9a68_2d5a_11eb_88a8_af456fec449arow4_col4,#T_c51c9a68_2d5a_11eb_88a8_af456fec449arow5_col5,#T_c51c9a68_2d5a_11eb_88a8_af456fec449arow6_col6,#T_c51c9a68_2d5a_11eb_88a8_af456fec449arow7_col7,#T_c51c9a68_2d5a_11eb_88a8_af456fec449arow8_col8,#T_c51c9a68_2d5a_11eb_88a8_af456fec449arow9_col9,#T_c51c9a68_2d5a_11eb_88a8_af456fec449arow10_col10,#T_c51c9a68_2d5a_11eb_88a8_af456fec449arow11_col11,#T_c51c9a68_2d5a_11eb_88a8_af456fec449arow12_col12,#T_c51c9a68_2d5a_11eb_88a8_af456fec449arow13_col13{\n",
       "            background-color:  #08306b;\n",
       "            color:  #f1f1f1;\n",
       "        }#T_c51c9a68_2d5a_11eb_88a8_af456fec449arow0_col1{\n",
       "            background-color:  #c9ddf0;\n",
       "            color:  #000000;\n",
       "        }#T_c51c9a68_2d5a_11eb_88a8_af456fec449arow0_col2{\n",
       "            background-color:  #3a8ac2;\n",
       "            color:  #000000;\n",
       "        }#T_c51c9a68_2d5a_11eb_88a8_af456fec449arow0_col3{\n",
       "            background-color:  #ecf4fb;\n",
       "            color:  #000000;\n",
       "        }#T_c51c9a68_2d5a_11eb_88a8_af456fec449arow0_col4{\n",
       "            background-color:  #3585bf;\n",
       "            color:  #000000;\n",
       "        }#T_c51c9a68_2d5a_11eb_88a8_af456fec449arow0_col5{\n",
       "            background-color:  #c7dcef;\n",
       "            color:  #000000;\n",
       "        }#T_c51c9a68_2d5a_11eb_88a8_af456fec449arow0_col6,#T_c51c9a68_2d5a_11eb_88a8_af456fec449arow1_col13{\n",
       "            background-color:  #4090c5;\n",
       "            color:  #000000;\n",
       "        }#T_c51c9a68_2d5a_11eb_88a8_af456fec449arow0_col7,#T_c51c9a68_2d5a_11eb_88a8_af456fec449arow11_col4,#T_c51c9a68_2d5a_11eb_88a8_af456fec449arow11_col10{\n",
       "            background-color:  #ccdff1;\n",
       "            color:  #000000;\n",
       "        }#T_c51c9a68_2d5a_11eb_88a8_af456fec449arow0_col8{\n",
       "            background-color:  #2171b5;\n",
       "            color:  #f1f1f1;\n",
       "        }#T_c51c9a68_2d5a_11eb_88a8_af456fec449arow0_col9,#T_c51c9a68_2d5a_11eb_88a8_af456fec449arow2_col8,#T_c51c9a68_2d5a_11eb_88a8_af456fec449arow8_col0{\n",
       "            background-color:  #2676b8;\n",
       "            color:  #000000;\n",
       "        }#T_c51c9a68_2d5a_11eb_88a8_af456fec449arow0_col10{\n",
       "            background-color:  #61a7d2;\n",
       "            color:  #000000;\n",
       "        }#T_c51c9a68_2d5a_11eb_88a8_af456fec449arow0_col11,#T_c51c9a68_2d5a_11eb_88a8_af456fec449arow13_col9{\n",
       "            background-color:  #eff6fc;\n",
       "            color:  #000000;\n",
       "        }#T_c51c9a68_2d5a_11eb_88a8_af456fec449arow0_col12{\n",
       "            background-color:  #3282be;\n",
       "            color:  #000000;\n",
       "        }#T_c51c9a68_2d5a_11eb_88a8_af456fec449arow0_col13,#T_c51c9a68_2d5a_11eb_88a8_af456fec449arow9_col5{\n",
       "            background-color:  #d0e1f2;\n",
       "            color:  #000000;\n",
       "        }#T_c51c9a68_2d5a_11eb_88a8_af456fec449arow1_col0{\n",
       "            background-color:  #dceaf6;\n",
       "            color:  #000000;\n",
       "        }#T_c51c9a68_2d5a_11eb_88a8_af456fec449arow1_col2,#T_c51c9a68_2d5a_11eb_88a8_af456fec449arow1_col6,#T_c51c9a68_2d5a_11eb_88a8_af456fec449arow8_col3{\n",
       "            background-color:  #e3eef8;\n",
       "            color:  #000000;\n",
       "        }#T_c51c9a68_2d5a_11eb_88a8_af456fec449arow1_col3{\n",
       "            background-color:  #eaf2fb;\n",
       "            color:  #000000;\n",
       "        }#T_c51c9a68_2d5a_11eb_88a8_af456fec449arow1_col4,#T_c51c9a68_2d5a_11eb_88a8_af456fec449arow1_col9{\n",
       "            background-color:  #dbe9f6;\n",
       "            color:  #000000;\n",
       "        }#T_c51c9a68_2d5a_11eb_88a8_af456fec449arow1_col5,#T_c51c9a68_2d5a_11eb_88a8_af456fec449arow2_col0{\n",
       "            background-color:  #539ecd;\n",
       "            color:  #000000;\n",
       "        }#T_c51c9a68_2d5a_11eb_88a8_af456fec449arow1_col7,#T_c51c9a68_2d5a_11eb_88a8_af456fec449arow9_col4,#T_c51c9a68_2d5a_11eb_88a8_af456fec449arow13_col5{\n",
       "            background-color:  #1561a9;\n",
       "            color:  #f1f1f1;\n",
       "        }#T_c51c9a68_2d5a_11eb_88a8_af456fec449arow1_col8,#T_c51c9a68_2d5a_11eb_88a8_af456fec449arow5_col0{\n",
       "            background-color:  #dfebf7;\n",
       "            color:  #000000;\n",
       "        }#T_c51c9a68_2d5a_11eb_88a8_af456fec449arow1_col10,#T_c51c9a68_2d5a_11eb_88a8_af456fec449arow9_col3,#T_c51c9a68_2d5a_11eb_88a8_af456fec449arow13_col8{\n",
       "            background-color:  #e8f1fa;\n",
       "            color:  #000000;\n",
       "        }#T_c51c9a68_2d5a_11eb_88a8_af456fec449arow1_col11{\n",
       "            background-color:  #89bedc;\n",
       "            color:  #000000;\n",
       "        }#T_c51c9a68_2d5a_11eb_88a8_af456fec449arow1_col12,#T_c51c9a68_2d5a_11eb_88a8_af456fec449arow5_col2,#T_c51c9a68_2d5a_11eb_88a8_af456fec449arow6_col3,#T_c51c9a68_2d5a_11eb_88a8_af456fec449arow10_col11{\n",
       "            background-color:  #d3e3f3;\n",
       "            color:  #000000;\n",
       "        }#T_c51c9a68_2d5a_11eb_88a8_af456fec449arow2_col1,#T_c51c9a68_2d5a_11eb_88a8_af456fec449arow7_col3{\n",
       "            background-color:  #f3f8fe;\n",
       "            color:  #000000;\n",
       "        }#T_c51c9a68_2d5a_11eb_88a8_af456fec449arow2_col3,#T_c51c9a68_2d5a_11eb_88a8_af456fec449arow8_col1{\n",
       "            background-color:  #d6e6f4;\n",
       "            color:  #000000;\n",
       "        }#T_c51c9a68_2d5a_11eb_88a8_af456fec449arow2_col4{\n",
       "            background-color:  #0a539e;\n",
       "            color:  #f1f1f1;\n",
       "        }#T_c51c9a68_2d5a_11eb_88a8_af456fec449arow2_col5,#T_c51c9a68_2d5a_11eb_88a8_af456fec449arow7_col12{\n",
       "            background-color:  #dce9f6;\n",
       "            color:  #000000;\n",
       "        }#T_c51c9a68_2d5a_11eb_88a8_af456fec449arow2_col6{\n",
       "            background-color:  #1865ac;\n",
       "            color:  #f1f1f1;\n",
       "        }#T_c51c9a68_2d5a_11eb_88a8_af456fec449arow2_col7,#T_c51c9a68_2d5a_11eb_88a8_af456fec449arow4_col1,#T_c51c9a68_2d5a_11eb_88a8_af456fec449arow11_col8{\n",
       "            background-color:  #f1f7fd;\n",
       "            color:  #000000;\n",
       "        }#T_c51c9a68_2d5a_11eb_88a8_af456fec449arow2_col9{\n",
       "            background-color:  #135fa7;\n",
       "            color:  #f1f1f1;\n",
       "        }#T_c51c9a68_2d5a_11eb_88a8_af456fec449arow2_col10,#T_c51c9a68_2d5a_11eb_88a8_af456fec449arow13_col1{\n",
       "            background-color:  #4d99ca;\n",
       "            color:  #000000;\n",
       "        }#T_c51c9a68_2d5a_11eb_88a8_af456fec449arow2_col11,#T_c51c9a68_2d5a_11eb_88a8_af456fec449arow11_col9,#T_c51c9a68_2d5a_11eb_88a8_af456fec449arow12_col3{\n",
       "            background-color:  #ebf3fb;\n",
       "            color:  #000000;\n",
       "        }#T_c51c9a68_2d5a_11eb_88a8_af456fec449arow2_col12,#T_c51c9a68_2d5a_11eb_88a8_af456fec449arow6_col12,#T_c51c9a68_2d5a_11eb_88a8_af456fec449arow12_col6{\n",
       "            background-color:  #1c6bb0;\n",
       "            color:  #f1f1f1;\n",
       "        }#T_c51c9a68_2d5a_11eb_88a8_af456fec449arow2_col13{\n",
       "            background-color:  #dae8f6;\n",
       "            color:  #000000;\n",
       "        }#T_c51c9a68_2d5a_11eb_88a8_af456fec449arow3_col0{\n",
       "            background-color:  #c8dcf0;\n",
       "            color:  #000000;\n",
       "        }#T_c51c9a68_2d5a_11eb_88a8_af456fec449arow3_col1{\n",
       "            background-color:  #abd0e6;\n",
       "            color:  #000000;\n",
       "        }#T_c51c9a68_2d5a_11eb_88a8_af456fec449arow3_col2{\n",
       "            background-color:  #7fb9da;\n",
       "            color:  #000000;\n",
       "        }#T_c51c9a68_2d5a_11eb_88a8_af456fec449arow3_col4{\n",
       "            background-color:  #71b1d7;\n",
       "            color:  #000000;\n",
       "        }#T_c51c9a68_2d5a_11eb_88a8_af456fec449arow3_col5{\n",
       "            background-color:  #85bcdc;\n",
       "            color:  #000000;\n",
       "        }#T_c51c9a68_2d5a_11eb_88a8_af456fec449arow3_col6{\n",
       "            background-color:  #74b3d8;\n",
       "            color:  #000000;\n",
       "        }#T_c51c9a68_2d5a_11eb_88a8_af456fec449arow3_col7{\n",
       "            background-color:  #9dcae1;\n",
       "            color:  #000000;\n",
       "        }#T_c51c9a68_2d5a_11eb_88a8_af456fec449arow3_col8,#T_c51c9a68_2d5a_11eb_88a8_af456fec449arow3_col9{\n",
       "            background-color:  #aed1e7;\n",
       "            color:  #000000;\n",
       "        }#T_c51c9a68_2d5a_11eb_88a8_af456fec449arow3_col10{\n",
       "            background-color:  #c4daee;\n",
       "            color:  #000000;\n",
       "        }#T_c51c9a68_2d5a_11eb_88a8_af456fec449arow3_col11{\n",
       "            background-color:  #a9cfe5;\n",
       "            color:  #000000;\n",
       "        }#T_c51c9a68_2d5a_11eb_88a8_af456fec449arow3_col12{\n",
       "            background-color:  #97c6df;\n",
       "            color:  #000000;\n",
       "        }#T_c51c9a68_2d5a_11eb_88a8_af456fec449arow3_col13{\n",
       "            background-color:  #63a8d3;\n",
       "            color:  #000000;\n",
       "        }#T_c51c9a68_2d5a_11eb_88a8_af456fec449arow4_col0,#T_c51c9a68_2d5a_11eb_88a8_af456fec449arow12_col10{\n",
       "            background-color:  #4f9bcb;\n",
       "            color:  #000000;\n",
       "        }#T_c51c9a68_2d5a_11eb_88a8_af456fec449arow4_col2{\n",
       "            background-color:  #0a549e;\n",
       "            color:  #f1f1f1;\n",
       "        }#T_c51c9a68_2d5a_11eb_88a8_af456fec449arow4_col3,#T_c51c9a68_2d5a_11eb_88a8_af456fec449arow5_col3,#T_c51c9a68_2d5a_11eb_88a8_af456fec449arow5_col8{\n",
       "            background-color:  #d2e3f3;\n",
       "            color:  #000000;\n",
       "        }#T_c51c9a68_2d5a_11eb_88a8_af456fec449arow4_col5,#T_c51c9a68_2d5a_11eb_88a8_af456fec449arow13_col4{\n",
       "            background-color:  #d1e2f3;\n",
       "            color:  #000000;\n",
       "        }#T_c51c9a68_2d5a_11eb_88a8_af456fec449arow4_col6{\n",
       "            background-color:  #0e58a2;\n",
       "            color:  #f1f1f1;\n",
       "        }#T_c51c9a68_2d5a_11eb_88a8_af456fec449arow4_col7,#T_c51c9a68_2d5a_11eb_88a8_af456fec449arow6_col1,#T_c51c9a68_2d5a_11eb_88a8_af456fec449arow7_col2,#T_c51c9a68_2d5a_11eb_88a8_af456fec449arow7_col4,#T_c51c9a68_2d5a_11eb_88a8_af456fec449arow7_col6,#T_c51c9a68_2d5a_11eb_88a8_af456fec449arow7_col8,#T_c51c9a68_2d5a_11eb_88a8_af456fec449arow7_col9,#T_c51c9a68_2d5a_11eb_88a8_af456fec449arow8_col11,#T_c51c9a68_2d5a_11eb_88a8_af456fec449arow9_col11,#T_c51c9a68_2d5a_11eb_88a8_af456fec449arow10_col3,#T_c51c9a68_2d5a_11eb_88a8_af456fec449arow11_col0,#T_c51c9a68_2d5a_11eb_88a8_af456fec449arow12_col5,#T_c51c9a68_2d5a_11eb_88a8_af456fec449arow12_col13,#T_c51c9a68_2d5a_11eb_88a8_af456fec449arow13_col0,#T_c51c9a68_2d5a_11eb_88a8_af456fec449arow13_col10,#T_c51c9a68_2d5a_11eb_88a8_af456fec449arow13_col12{\n",
       "            background-color:  #f7fbff;\n",
       "            color:  #000000;\n",
       "        }#T_c51c9a68_2d5a_11eb_88a8_af456fec449arow4_col8{\n",
       "            background-color:  #2373b6;\n",
       "            color:  #f1f1f1;\n",
       "        }#T_c51c9a68_2d5a_11eb_88a8_af456fec449arow4_col9{\n",
       "            background-color:  #1a68ae;\n",
       "            color:  #f1f1f1;\n",
       "        }#T_c51c9a68_2d5a_11eb_88a8_af456fec449arow4_col10{\n",
       "            background-color:  #7ab6d9;\n",
       "            color:  #000000;\n",
       "        }#T_c51c9a68_2d5a_11eb_88a8_af456fec449arow4_col11{\n",
       "            background-color:  #eef5fc;\n",
       "            color:  #000000;\n",
       "        }#T_c51c9a68_2d5a_11eb_88a8_af456fec449arow4_col12,#T_c51c9a68_2d5a_11eb_88a8_af456fec449arow8_col2{\n",
       "            background-color:  #1e6db2;\n",
       "            color:  #f1f1f1;\n",
       "        }#T_c51c9a68_2d5a_11eb_88a8_af456fec449arow4_col13{\n",
       "            background-color:  #d4e4f4;\n",
       "            color:  #000000;\n",
       "        }#T_c51c9a68_2d5a_11eb_88a8_af456fec449arow5_col1{\n",
       "            background-color:  #57a0ce;\n",
       "            color:  #000000;\n",
       "        }#T_c51c9a68_2d5a_11eb_88a8_af456fec449arow5_col4,#T_c51c9a68_2d5a_11eb_88a8_af456fec449arow13_col3{\n",
       "            background-color:  #c2d9ee;\n",
       "            color:  #000000;\n",
       "        }#T_c51c9a68_2d5a_11eb_88a8_af456fec449arow5_col6{\n",
       "            background-color:  #b9d6ea;\n",
       "            color:  #000000;\n",
       "        }#T_c51c9a68_2d5a_11eb_88a8_af456fec449arow5_col7{\n",
       "            background-color:  #5aa2cf;\n",
       "            color:  #000000;\n",
       "        }#T_c51c9a68_2d5a_11eb_88a8_af456fec449arow5_col9,#T_c51c9a68_2d5a_11eb_88a8_af456fec449arow10_col5{\n",
       "            background-color:  #d8e7f5;\n",
       "            color:  #000000;\n",
       "        }#T_c51c9a68_2d5a_11eb_88a8_af456fec449arow5_col10,#T_c51c9a68_2d5a_11eb_88a8_af456fec449arow12_col1{\n",
       "            background-color:  #e3eef9;\n",
       "            color:  #000000;\n",
       "        }#T_c51c9a68_2d5a_11eb_88a8_af456fec449arow5_col11{\n",
       "            background-color:  #95c5df;\n",
       "            color:  #000000;\n",
       "        }#T_c51c9a68_2d5a_11eb_88a8_af456fec449arow5_col12{\n",
       "            background-color:  #e9f2fa;\n",
       "            color:  #000000;\n",
       "        }#T_c51c9a68_2d5a_11eb_88a8_af456fec449arow5_col13{\n",
       "            background-color:  #125da6;\n",
       "            color:  #f1f1f1;\n",
       "        }#T_c51c9a68_2d5a_11eb_88a8_af456fec449arow6_col0{\n",
       "            background-color:  #60a7d2;\n",
       "            color:  #000000;\n",
       "        }#T_c51c9a68_2d5a_11eb_88a8_af456fec449arow6_col2{\n",
       "            background-color:  #1966ad;\n",
       "            color:  #f1f1f1;\n",
       "        }#T_c51c9a68_2d5a_11eb_88a8_af456fec449arow6_col4{\n",
       "            background-color:  #0d57a1;\n",
       "            color:  #f1f1f1;\n",
       "        }#T_c51c9a68_2d5a_11eb_88a8_af456fec449arow6_col5{\n",
       "            background-color:  #caddf0;\n",
       "            color:  #000000;\n",
       "        }#T_c51c9a68_2d5a_11eb_88a8_af456fec449arow6_col7{\n",
       "            background-color:  #f5f9fe;\n",
       "            color:  #000000;\n",
       "        }#T_c51c9a68_2d5a_11eb_88a8_af456fec449arow6_col8{\n",
       "            background-color:  #3f8fc5;\n",
       "            color:  #000000;\n",
       "        }#T_c51c9a68_2d5a_11eb_88a8_af456fec449arow6_col9{\n",
       "            background-color:  #3484bf;\n",
       "            color:  #000000;\n",
       "        }#T_c51c9a68_2d5a_11eb_88a8_af456fec449arow6_col10,#T_c51c9a68_2d5a_11eb_88a8_af456fec449arow7_col11{\n",
       "            background-color:  #68acd5;\n",
       "            color:  #000000;\n",
       "        }#T_c51c9a68_2d5a_11eb_88a8_af456fec449arow6_col11{\n",
       "            background-color:  #dfecf7;\n",
       "            color:  #000000;\n",
       "        }#T_c51c9a68_2d5a_11eb_88a8_af456fec449arow6_col13{\n",
       "            background-color:  #cee0f2;\n",
       "            color:  #000000;\n",
       "        }#T_c51c9a68_2d5a_11eb_88a8_af456fec449arow7_col0{\n",
       "            background-color:  #f6faff;\n",
       "            color:  #000000;\n",
       "        }#T_c51c9a68_2d5a_11eb_88a8_af456fec449arow7_col1{\n",
       "            background-color:  #1967ad;\n",
       "            color:  #f1f1f1;\n",
       "        }#T_c51c9a68_2d5a_11eb_88a8_af456fec449arow7_col5{\n",
       "            background-color:  #69add5;\n",
       "            color:  #000000;\n",
       "        }#T_c51c9a68_2d5a_11eb_88a8_af456fec449arow7_col10{\n",
       "            background-color:  #d3e4f3;\n",
       "            color:  #000000;\n",
       "        }#T_c51c9a68_2d5a_11eb_88a8_af456fec449arow7_col13{\n",
       "            background-color:  #549fcd;\n",
       "            color:  #000000;\n",
       "        }#T_c51c9a68_2d5a_11eb_88a8_af456fec449arow8_col4{\n",
       "            background-color:  #1b69af;\n",
       "            color:  #f1f1f1;\n",
       "        }#T_c51c9a68_2d5a_11eb_88a8_af456fec449arow8_col5{\n",
       "            background-color:  #c6dbef;\n",
       "            color:  #000000;\n",
       "        }#T_c51c9a68_2d5a_11eb_88a8_af456fec449arow8_col6{\n",
       "            background-color:  #3181bd;\n",
       "            color:  #000000;\n",
       "        }#T_c51c9a68_2d5a_11eb_88a8_af456fec449arow8_col7,#T_c51c9a68_2d5a_11eb_88a8_af456fec449arow9_col13,#T_c51c9a68_2d5a_11eb_88a8_af456fec449arow12_col7{\n",
       "            background-color:  #d9e7f5;\n",
       "            color:  #000000;\n",
       "        }#T_c51c9a68_2d5a_11eb_88a8_af456fec449arow8_col9{\n",
       "            background-color:  #083e81;\n",
       "            color:  #f1f1f1;\n",
       "        }#T_c51c9a68_2d5a_11eb_88a8_af456fec449arow8_col10{\n",
       "            background-color:  #3c8cc3;\n",
       "            color:  #000000;\n",
       "        }#T_c51c9a68_2d5a_11eb_88a8_af456fec449arow8_col12{\n",
       "            background-color:  #2d7dbb;\n",
       "            color:  #000000;\n",
       "        }#T_c51c9a68_2d5a_11eb_88a8_af456fec449arow8_col13,#T_c51c9a68_2d5a_11eb_88a8_af456fec449arow11_col2{\n",
       "            background-color:  #cfe1f2;\n",
       "            color:  #000000;\n",
       "        }#T_c51c9a68_2d5a_11eb_88a8_af456fec449arow9_col0,#T_c51c9a68_2d5a_11eb_88a8_af456fec449arow12_col9{\n",
       "            background-color:  #2e7ebc;\n",
       "            color:  #000000;\n",
       "        }#T_c51c9a68_2d5a_11eb_88a8_af456fec449arow9_col1{\n",
       "            background-color:  #d7e6f5;\n",
       "            color:  #000000;\n",
       "        }#T_c51c9a68_2d5a_11eb_88a8_af456fec449arow9_col2{\n",
       "            background-color:  #0f5aa3;\n",
       "            color:  #f1f1f1;\n",
       "        }#T_c51c9a68_2d5a_11eb_88a8_af456fec449arow9_col6{\n",
       "            background-color:  #2a7ab9;\n",
       "            color:  #000000;\n",
       "        }#T_c51c9a68_2d5a_11eb_88a8_af456fec449arow9_col7,#T_c51c9a68_2d5a_11eb_88a8_af456fec449arow10_col13,#T_c51c9a68_2d5a_11eb_88a8_af456fec449arow13_col2{\n",
       "            background-color:  #ddeaf7;\n",
       "            color:  #000000;\n",
       "        }#T_c51c9a68_2d5a_11eb_88a8_af456fec449arow9_col8{\n",
       "            background-color:  #084082;\n",
       "            color:  #f1f1f1;\n",
       "        }#T_c51c9a68_2d5a_11eb_88a8_af456fec449arow9_col10,#T_c51c9a68_2d5a_11eb_88a8_af456fec449arow10_col8{\n",
       "            background-color:  #3d8dc4;\n",
       "            color:  #000000;\n",
       "        }#T_c51c9a68_2d5a_11eb_88a8_af456fec449arow9_col12{\n",
       "            background-color:  #2474b7;\n",
       "            color:  #f1f1f1;\n",
       "        }#T_c51c9a68_2d5a_11eb_88a8_af456fec449arow10_col0{\n",
       "            background-color:  #6fb0d7;\n",
       "            color:  #000000;\n",
       "        }#T_c51c9a68_2d5a_11eb_88a8_af456fec449arow10_col1{\n",
       "            background-color:  #e0ecf8;\n",
       "            color:  #000000;\n",
       "        }#T_c51c9a68_2d5a_11eb_88a8_af456fec449arow10_col2,#T_c51c9a68_2d5a_11eb_88a8_af456fec449arow10_col12{\n",
       "            background-color:  #3e8ec4;\n",
       "            color:  #000000;\n",
       "        }#T_c51c9a68_2d5a_11eb_88a8_af456fec449arow10_col4{\n",
       "            background-color:  #5da5d1;\n",
       "            color:  #000000;\n",
       "        }#T_c51c9a68_2d5a_11eb_88a8_af456fec449arow10_col6,#T_c51c9a68_2d5a_11eb_88a8_af456fec449arow13_col7{\n",
       "            background-color:  #529dcc;\n",
       "            color:  #000000;\n",
       "        }#T_c51c9a68_2d5a_11eb_88a8_af456fec449arow10_col7{\n",
       "            background-color:  #b5d4e9;\n",
       "            color:  #000000;\n",
       "        }#T_c51c9a68_2d5a_11eb_88a8_af456fec449arow10_col9{\n",
       "            background-color:  #3b8bc2;\n",
       "            color:  #000000;\n",
       "        }#T_c51c9a68_2d5a_11eb_88a8_af456fec449arow11_col1{\n",
       "            background-color:  #75b4d8;\n",
       "            color:  #000000;\n",
       "        }#T_c51c9a68_2d5a_11eb_88a8_af456fec449arow11_col3{\n",
       "            background-color:  #d9e8f5;\n",
       "            color:  #000000;\n",
       "        }#T_c51c9a68_2d5a_11eb_88a8_af456fec449arow11_col5{\n",
       "            background-color:  #7cb7da;\n",
       "            color:  #000000;\n",
       "        }#T_c51c9a68_2d5a_11eb_88a8_af456fec449arow11_col6{\n",
       "            background-color:  #bfd8ed;\n",
       "            color:  #000000;\n",
       "        }#T_c51c9a68_2d5a_11eb_88a8_af456fec449arow11_col7{\n",
       "            background-color:  #4a98c9;\n",
       "            color:  #000000;\n",
       "        }#T_c51c9a68_2d5a_11eb_88a8_af456fec449arow11_col12,#T_c51c9a68_2d5a_11eb_88a8_af456fec449arow13_col6{\n",
       "            background-color:  #cde0f1;\n",
       "            color:  #000000;\n",
       "        }#T_c51c9a68_2d5a_11eb_88a8_af456fec449arow11_col13{\n",
       "            background-color:  #4594c7;\n",
       "            color:  #000000;\n",
       "        }#T_c51c9a68_2d5a_11eb_88a8_af456fec449arow12_col0{\n",
       "            background-color:  #4896c8;\n",
       "            color:  #000000;\n",
       "        }#T_c51c9a68_2d5a_11eb_88a8_af456fec449arow12_col2,#T_c51c9a68_2d5a_11eb_88a8_af456fec449arow12_col4{\n",
       "            background-color:  #1d6cb1;\n",
       "            color:  #f1f1f1;\n",
       "        }#T_c51c9a68_2d5a_11eb_88a8_af456fec449arow12_col8{\n",
       "            background-color:  #3989c1;\n",
       "            color:  #000000;\n",
       "        }#T_c51c9a68_2d5a_11eb_88a8_af456fec449arow12_col11{\n",
       "            background-color:  #edf4fc;\n",
       "            color:  #000000;\n",
       "        }#T_c51c9a68_2d5a_11eb_88a8_af456fec449arow13_col11{\n",
       "            background-color:  #5fa6d1;\n",
       "            color:  #000000;\n",
       "        }</style><table id=\"T_c51c9a68_2d5a_11eb_88a8_af456fec449a\" ><thead>    <tr>        <th class=\"blank level0\" ></th>        <th class=\"col_heading level0 col0\" >CRIM</th>        <th class=\"col_heading level0 col1\" >ZN</th>        <th class=\"col_heading level0 col2\" >INDUS</th>        <th class=\"col_heading level0 col3\" >CHAS</th>        <th class=\"col_heading level0 col4\" >NOX</th>        <th class=\"col_heading level0 col5\" >RM</th>        <th class=\"col_heading level0 col6\" >AGE</th>        <th class=\"col_heading level0 col7\" >DIS</th>        <th class=\"col_heading level0 col8\" >RAD</th>        <th class=\"col_heading level0 col9\" >TAX</th>        <th class=\"col_heading level0 col10\" >PTRATIO</th>        <th class=\"col_heading level0 col11\" >BK</th>        <th class=\"col_heading level0 col12\" >LSTAT</th>        <th class=\"col_heading level0 col13\" >MEDV</th>    </tr></thead><tbody>\n",
       "                <tr>\n",
       "                        <th id=\"T_c51c9a68_2d5a_11eb_88a8_af456fec449alevel0_row0\" class=\"row_heading level0 row0\" >CRIM</th>\n",
       "                        <td id=\"T_c51c9a68_2d5a_11eb_88a8_af456fec449arow0_col0\" class=\"data row0 col0\" >1.000000</td>\n",
       "                        <td id=\"T_c51c9a68_2d5a_11eb_88a8_af456fec449arow0_col1\" class=\"data row0 col1\" >-0.200469</td>\n",
       "                        <td id=\"T_c51c9a68_2d5a_11eb_88a8_af456fec449arow0_col2\" class=\"data row0 col2\" >0.406583</td>\n",
       "                        <td id=\"T_c51c9a68_2d5a_11eb_88a8_af456fec449arow0_col3\" class=\"data row0 col3\" >-0.055892</td>\n",
       "                        <td id=\"T_c51c9a68_2d5a_11eb_88a8_af456fec449arow0_col4\" class=\"data row0 col4\" >0.420972</td>\n",
       "                        <td id=\"T_c51c9a68_2d5a_11eb_88a8_af456fec449arow0_col5\" class=\"data row0 col5\" >-0.219247</td>\n",
       "                        <td id=\"T_c51c9a68_2d5a_11eb_88a8_af456fec449arow0_col6\" class=\"data row0 col6\" >0.352734</td>\n",
       "                        <td id=\"T_c51c9a68_2d5a_11eb_88a8_af456fec449arow0_col7\" class=\"data row0 col7\" >-0.379670</td>\n",
       "                        <td id=\"T_c51c9a68_2d5a_11eb_88a8_af456fec449arow0_col8\" class=\"data row0 col8\" >0.625505</td>\n",
       "                        <td id=\"T_c51c9a68_2d5a_11eb_88a8_af456fec449arow0_col9\" class=\"data row0 col9\" >0.582764</td>\n",
       "                        <td id=\"T_c51c9a68_2d5a_11eb_88a8_af456fec449arow0_col10\" class=\"data row0 col10\" >0.289946</td>\n",
       "                        <td id=\"T_c51c9a68_2d5a_11eb_88a8_af456fec449arow0_col11\" class=\"data row0 col11\" >-0.385064</td>\n",
       "                        <td id=\"T_c51c9a68_2d5a_11eb_88a8_af456fec449arow0_col12\" class=\"data row0 col12\" >0.455621</td>\n",
       "                        <td id=\"T_c51c9a68_2d5a_11eb_88a8_af456fec449arow0_col13\" class=\"data row0 col13\" >-0.388305</td>\n",
       "            </tr>\n",
       "            <tr>\n",
       "                        <th id=\"T_c51c9a68_2d5a_11eb_88a8_af456fec449alevel0_row1\" class=\"row_heading level0 row1\" >ZN</th>\n",
       "                        <td id=\"T_c51c9a68_2d5a_11eb_88a8_af456fec449arow1_col0\" class=\"data row1 col0\" >-0.200469</td>\n",
       "                        <td id=\"T_c51c9a68_2d5a_11eb_88a8_af456fec449arow1_col1\" class=\"data row1 col1\" >1.000000</td>\n",
       "                        <td id=\"T_c51c9a68_2d5a_11eb_88a8_af456fec449arow1_col2\" class=\"data row1 col2\" >-0.533828</td>\n",
       "                        <td id=\"T_c51c9a68_2d5a_11eb_88a8_af456fec449arow1_col3\" class=\"data row1 col3\" >-0.042697</td>\n",
       "                        <td id=\"T_c51c9a68_2d5a_11eb_88a8_af456fec449arow1_col4\" class=\"data row1 col4\" >-0.516604</td>\n",
       "                        <td id=\"T_c51c9a68_2d5a_11eb_88a8_af456fec449arow1_col5\" class=\"data row1 col5\" >0.311991</td>\n",
       "                        <td id=\"T_c51c9a68_2d5a_11eb_88a8_af456fec449arow1_col6\" class=\"data row1 col6\" >-0.569537</td>\n",
       "                        <td id=\"T_c51c9a68_2d5a_11eb_88a8_af456fec449arow1_col7\" class=\"data row1 col7\" >0.664408</td>\n",
       "                        <td id=\"T_c51c9a68_2d5a_11eb_88a8_af456fec449arow1_col8\" class=\"data row1 col8\" >-0.311948</td>\n",
       "                        <td id=\"T_c51c9a68_2d5a_11eb_88a8_af456fec449arow1_col9\" class=\"data row1 col9\" >-0.314563</td>\n",
       "                        <td id=\"T_c51c9a68_2d5a_11eb_88a8_af456fec449arow1_col10\" class=\"data row1 col10\" >-0.391679</td>\n",
       "                        <td id=\"T_c51c9a68_2d5a_11eb_88a8_af456fec449arow1_col11\" class=\"data row1 col11\" >0.175520</td>\n",
       "                        <td id=\"T_c51c9a68_2d5a_11eb_88a8_af456fec449arow1_col12\" class=\"data row1 col12\" >-0.412995</td>\n",
       "                        <td id=\"T_c51c9a68_2d5a_11eb_88a8_af456fec449arow1_col13\" class=\"data row1 col13\" >0.360445</td>\n",
       "            </tr>\n",
       "            <tr>\n",
       "                        <th id=\"T_c51c9a68_2d5a_11eb_88a8_af456fec449alevel0_row2\" class=\"row_heading level0 row2\" >INDUS</th>\n",
       "                        <td id=\"T_c51c9a68_2d5a_11eb_88a8_af456fec449arow2_col0\" class=\"data row2 col0\" >0.406583</td>\n",
       "                        <td id=\"T_c51c9a68_2d5a_11eb_88a8_af456fec449arow2_col1\" class=\"data row2 col1\" >-0.533828</td>\n",
       "                        <td id=\"T_c51c9a68_2d5a_11eb_88a8_af456fec449arow2_col2\" class=\"data row2 col2\" >1.000000</td>\n",
       "                        <td id=\"T_c51c9a68_2d5a_11eb_88a8_af456fec449arow2_col3\" class=\"data row2 col3\" >0.062938</td>\n",
       "                        <td id=\"T_c51c9a68_2d5a_11eb_88a8_af456fec449arow2_col4\" class=\"data row2 col4\" >0.763651</td>\n",
       "                        <td id=\"T_c51c9a68_2d5a_11eb_88a8_af456fec449arow2_col5\" class=\"data row2 col5\" >-0.391676</td>\n",
       "                        <td id=\"T_c51c9a68_2d5a_11eb_88a8_af456fec449arow2_col6\" class=\"data row2 col6\" >0.644779</td>\n",
       "                        <td id=\"T_c51c9a68_2d5a_11eb_88a8_af456fec449arow2_col7\" class=\"data row2 col7\" >-0.708027</td>\n",
       "                        <td id=\"T_c51c9a68_2d5a_11eb_88a8_af456fec449arow2_col8\" class=\"data row2 col8\" >0.595129</td>\n",
       "                        <td id=\"T_c51c9a68_2d5a_11eb_88a8_af456fec449arow2_col9\" class=\"data row2 col9\" >0.720760</td>\n",
       "                        <td id=\"T_c51c9a68_2d5a_11eb_88a8_af456fec449arow2_col10\" class=\"data row2 col10\" >0.383248</td>\n",
       "                        <td id=\"T_c51c9a68_2d5a_11eb_88a8_af456fec449arow2_col11\" class=\"data row2 col11\" >-0.356977</td>\n",
       "                        <td id=\"T_c51c9a68_2d5a_11eb_88a8_af456fec449arow2_col12\" class=\"data row2 col12\" >0.603800</td>\n",
       "                        <td id=\"T_c51c9a68_2d5a_11eb_88a8_af456fec449arow2_col13\" class=\"data row2 col13\" >-0.483725</td>\n",
       "            </tr>\n",
       "            <tr>\n",
       "                        <th id=\"T_c51c9a68_2d5a_11eb_88a8_af456fec449alevel0_row3\" class=\"row_heading level0 row3\" >CHAS</th>\n",
       "                        <td id=\"T_c51c9a68_2d5a_11eb_88a8_af456fec449arow3_col0\" class=\"data row3 col0\" >-0.055892</td>\n",
       "                        <td id=\"T_c51c9a68_2d5a_11eb_88a8_af456fec449arow3_col1\" class=\"data row3 col1\" >-0.042697</td>\n",
       "                        <td id=\"T_c51c9a68_2d5a_11eb_88a8_af456fec449arow3_col2\" class=\"data row3 col2\" >0.062938</td>\n",
       "                        <td id=\"T_c51c9a68_2d5a_11eb_88a8_af456fec449arow3_col3\" class=\"data row3 col3\" >1.000000</td>\n",
       "                        <td id=\"T_c51c9a68_2d5a_11eb_88a8_af456fec449arow3_col4\" class=\"data row3 col4\" >0.091203</td>\n",
       "                        <td id=\"T_c51c9a68_2d5a_11eb_88a8_af456fec449arow3_col5\" class=\"data row3 col5\" >0.091251</td>\n",
       "                        <td id=\"T_c51c9a68_2d5a_11eb_88a8_af456fec449arow3_col6\" class=\"data row3 col6\" >0.086518</td>\n",
       "                        <td id=\"T_c51c9a68_2d5a_11eb_88a8_af456fec449arow3_col7\" class=\"data row3 col7\" >-0.099176</td>\n",
       "                        <td id=\"T_c51c9a68_2d5a_11eb_88a8_af456fec449arow3_col8\" class=\"data row3 col8\" >-0.007368</td>\n",
       "                        <td id=\"T_c51c9a68_2d5a_11eb_88a8_af456fec449arow3_col9\" class=\"data row3 col9\" >-0.035587</td>\n",
       "                        <td id=\"T_c51c9a68_2d5a_11eb_88a8_af456fec449arow3_col10\" class=\"data row3 col10\" >-0.121515</td>\n",
       "                        <td id=\"T_c51c9a68_2d5a_11eb_88a8_af456fec449arow3_col11\" class=\"data row3 col11\" >0.048788</td>\n",
       "                        <td id=\"T_c51c9a68_2d5a_11eb_88a8_af456fec449arow3_col12\" class=\"data row3 col12\" >-0.053929</td>\n",
       "                        <td id=\"T_c51c9a68_2d5a_11eb_88a8_af456fec449arow3_col13\" class=\"data row3 col13\" >0.175260</td>\n",
       "            </tr>\n",
       "            <tr>\n",
       "                        <th id=\"T_c51c9a68_2d5a_11eb_88a8_af456fec449alevel0_row4\" class=\"row_heading level0 row4\" >NOX</th>\n",
       "                        <td id=\"T_c51c9a68_2d5a_11eb_88a8_af456fec449arow4_col0\" class=\"data row4 col0\" >0.420972</td>\n",
       "                        <td id=\"T_c51c9a68_2d5a_11eb_88a8_af456fec449arow4_col1\" class=\"data row4 col1\" >-0.516604</td>\n",
       "                        <td id=\"T_c51c9a68_2d5a_11eb_88a8_af456fec449arow4_col2\" class=\"data row4 col2\" >0.763651</td>\n",
       "                        <td id=\"T_c51c9a68_2d5a_11eb_88a8_af456fec449arow4_col3\" class=\"data row4 col3\" >0.091203</td>\n",
       "                        <td id=\"T_c51c9a68_2d5a_11eb_88a8_af456fec449arow4_col4\" class=\"data row4 col4\" >1.000000</td>\n",
       "                        <td id=\"T_c51c9a68_2d5a_11eb_88a8_af456fec449arow4_col5\" class=\"data row4 col5\" >-0.302188</td>\n",
       "                        <td id=\"T_c51c9a68_2d5a_11eb_88a8_af456fec449arow4_col6\" class=\"data row4 col6\" >0.731470</td>\n",
       "                        <td id=\"T_c51c9a68_2d5a_11eb_88a8_af456fec449arow4_col7\" class=\"data row4 col7\" >-0.769230</td>\n",
       "                        <td id=\"T_c51c9a68_2d5a_11eb_88a8_af456fec449arow4_col8\" class=\"data row4 col8\" >0.611441</td>\n",
       "                        <td id=\"T_c51c9a68_2d5a_11eb_88a8_af456fec449arow4_col9\" class=\"data row4 col9\" >0.668023</td>\n",
       "                        <td id=\"T_c51c9a68_2d5a_11eb_88a8_af456fec449arow4_col10\" class=\"data row4 col10\" >0.188933</td>\n",
       "                        <td id=\"T_c51c9a68_2d5a_11eb_88a8_af456fec449arow4_col11\" class=\"data row4 col11\" >-0.380051</td>\n",
       "                        <td id=\"T_c51c9a68_2d5a_11eb_88a8_af456fec449arow4_col12\" class=\"data row4 col12\" >0.590879</td>\n",
       "                        <td id=\"T_c51c9a68_2d5a_11eb_88a8_af456fec449arow4_col13\" class=\"data row4 col13\" >-0.427321</td>\n",
       "            </tr>\n",
       "            <tr>\n",
       "                        <th id=\"T_c51c9a68_2d5a_11eb_88a8_af456fec449alevel0_row5\" class=\"row_heading level0 row5\" >RM</th>\n",
       "                        <td id=\"T_c51c9a68_2d5a_11eb_88a8_af456fec449arow5_col0\" class=\"data row5 col0\" >-0.219247</td>\n",
       "                        <td id=\"T_c51c9a68_2d5a_11eb_88a8_af456fec449arow5_col1\" class=\"data row5 col1\" >0.311991</td>\n",
       "                        <td id=\"T_c51c9a68_2d5a_11eb_88a8_af456fec449arow5_col2\" class=\"data row5 col2\" >-0.391676</td>\n",
       "                        <td id=\"T_c51c9a68_2d5a_11eb_88a8_af456fec449arow5_col3\" class=\"data row5 col3\" >0.091251</td>\n",
       "                        <td id=\"T_c51c9a68_2d5a_11eb_88a8_af456fec449arow5_col4\" class=\"data row5 col4\" >-0.302188</td>\n",
       "                        <td id=\"T_c51c9a68_2d5a_11eb_88a8_af456fec449arow5_col5\" class=\"data row5 col5\" >1.000000</td>\n",
       "                        <td id=\"T_c51c9a68_2d5a_11eb_88a8_af456fec449arow5_col6\" class=\"data row5 col6\" >-0.240265</td>\n",
       "                        <td id=\"T_c51c9a68_2d5a_11eb_88a8_af456fec449arow5_col7\" class=\"data row5 col7\" >0.205246</td>\n",
       "                        <td id=\"T_c51c9a68_2d5a_11eb_88a8_af456fec449arow5_col8\" class=\"data row5 col8\" >-0.209847</td>\n",
       "                        <td id=\"T_c51c9a68_2d5a_11eb_88a8_af456fec449arow5_col9\" class=\"data row5 col9\" >-0.292048</td>\n",
       "                        <td id=\"T_c51c9a68_2d5a_11eb_88a8_af456fec449arow5_col10\" class=\"data row5 col10\" >-0.355501</td>\n",
       "                        <td id=\"T_c51c9a68_2d5a_11eb_88a8_af456fec449arow5_col11\" class=\"data row5 col11\" >0.128069</td>\n",
       "                        <td id=\"T_c51c9a68_2d5a_11eb_88a8_af456fec449arow5_col12\" class=\"data row5 col12\" >-0.613808</td>\n",
       "                        <td id=\"T_c51c9a68_2d5a_11eb_88a8_af456fec449arow5_col13\" class=\"data row5 col13\" >0.695360</td>\n",
       "            </tr>\n",
       "            <tr>\n",
       "                        <th id=\"T_c51c9a68_2d5a_11eb_88a8_af456fec449alevel0_row6\" class=\"row_heading level0 row6\" >AGE</th>\n",
       "                        <td id=\"T_c51c9a68_2d5a_11eb_88a8_af456fec449arow6_col0\" class=\"data row6 col0\" >0.352734</td>\n",
       "                        <td id=\"T_c51c9a68_2d5a_11eb_88a8_af456fec449arow6_col1\" class=\"data row6 col1\" >-0.569537</td>\n",
       "                        <td id=\"T_c51c9a68_2d5a_11eb_88a8_af456fec449arow6_col2\" class=\"data row6 col2\" >0.644779</td>\n",
       "                        <td id=\"T_c51c9a68_2d5a_11eb_88a8_af456fec449arow6_col3\" class=\"data row6 col3\" >0.086518</td>\n",
       "                        <td id=\"T_c51c9a68_2d5a_11eb_88a8_af456fec449arow6_col4\" class=\"data row6 col4\" >0.731470</td>\n",
       "                        <td id=\"T_c51c9a68_2d5a_11eb_88a8_af456fec449arow6_col5\" class=\"data row6 col5\" >-0.240265</td>\n",
       "                        <td id=\"T_c51c9a68_2d5a_11eb_88a8_af456fec449arow6_col6\" class=\"data row6 col6\" >1.000000</td>\n",
       "                        <td id=\"T_c51c9a68_2d5a_11eb_88a8_af456fec449arow6_col7\" class=\"data row6 col7\" >-0.747881</td>\n",
       "                        <td id=\"T_c51c9a68_2d5a_11eb_88a8_af456fec449arow6_col8\" class=\"data row6 col8\" >0.456022</td>\n",
       "                        <td id=\"T_c51c9a68_2d5a_11eb_88a8_af456fec449arow6_col9\" class=\"data row6 col9\" >0.506456</td>\n",
       "                        <td id=\"T_c51c9a68_2d5a_11eb_88a8_af456fec449arow6_col10\" class=\"data row6 col10\" >0.261515</td>\n",
       "                        <td id=\"T_c51c9a68_2d5a_11eb_88a8_af456fec449arow6_col11\" class=\"data row6 col11\" >-0.273534</td>\n",
       "                        <td id=\"T_c51c9a68_2d5a_11eb_88a8_af456fec449arow6_col12\" class=\"data row6 col12\" >0.602339</td>\n",
       "                        <td id=\"T_c51c9a68_2d5a_11eb_88a8_af456fec449arow6_col13\" class=\"data row6 col13\" >-0.376955</td>\n",
       "            </tr>\n",
       "            <tr>\n",
       "                        <th id=\"T_c51c9a68_2d5a_11eb_88a8_af456fec449alevel0_row7\" class=\"row_heading level0 row7\" >DIS</th>\n",
       "                        <td id=\"T_c51c9a68_2d5a_11eb_88a8_af456fec449arow7_col0\" class=\"data row7 col0\" >-0.379670</td>\n",
       "                        <td id=\"T_c51c9a68_2d5a_11eb_88a8_af456fec449arow7_col1\" class=\"data row7 col1\" >0.664408</td>\n",
       "                        <td id=\"T_c51c9a68_2d5a_11eb_88a8_af456fec449arow7_col2\" class=\"data row7 col2\" >-0.708027</td>\n",
       "                        <td id=\"T_c51c9a68_2d5a_11eb_88a8_af456fec449arow7_col3\" class=\"data row7 col3\" >-0.099176</td>\n",
       "                        <td id=\"T_c51c9a68_2d5a_11eb_88a8_af456fec449arow7_col4\" class=\"data row7 col4\" >-0.769230</td>\n",
       "                        <td id=\"T_c51c9a68_2d5a_11eb_88a8_af456fec449arow7_col5\" class=\"data row7 col5\" >0.205246</td>\n",
       "                        <td id=\"T_c51c9a68_2d5a_11eb_88a8_af456fec449arow7_col6\" class=\"data row7 col6\" >-0.747881</td>\n",
       "                        <td id=\"T_c51c9a68_2d5a_11eb_88a8_af456fec449arow7_col7\" class=\"data row7 col7\" >1.000000</td>\n",
       "                        <td id=\"T_c51c9a68_2d5a_11eb_88a8_af456fec449arow7_col8\" class=\"data row7 col8\" >-0.494588</td>\n",
       "                        <td id=\"T_c51c9a68_2d5a_11eb_88a8_af456fec449arow7_col9\" class=\"data row7 col9\" >-0.534432</td>\n",
       "                        <td id=\"T_c51c9a68_2d5a_11eb_88a8_af456fec449arow7_col10\" class=\"data row7 col10\" >-0.232471</td>\n",
       "                        <td id=\"T_c51c9a68_2d5a_11eb_88a8_af456fec449arow7_col11\" class=\"data row7 col11\" >0.291512</td>\n",
       "                        <td id=\"T_c51c9a68_2d5a_11eb_88a8_af456fec449arow7_col12\" class=\"data row7 col12\" >-0.496996</td>\n",
       "                        <td id=\"T_c51c9a68_2d5a_11eb_88a8_af456fec449arow7_col13\" class=\"data row7 col13\" >0.249929</td>\n",
       "            </tr>\n",
       "            <tr>\n",
       "                        <th id=\"T_c51c9a68_2d5a_11eb_88a8_af456fec449alevel0_row8\" class=\"row_heading level0 row8\" >RAD</th>\n",
       "                        <td id=\"T_c51c9a68_2d5a_11eb_88a8_af456fec449arow8_col0\" class=\"data row8 col0\" >0.625505</td>\n",
       "                        <td id=\"T_c51c9a68_2d5a_11eb_88a8_af456fec449arow8_col1\" class=\"data row8 col1\" >-0.311948</td>\n",
       "                        <td id=\"T_c51c9a68_2d5a_11eb_88a8_af456fec449arow8_col2\" class=\"data row8 col2\" >0.595129</td>\n",
       "                        <td id=\"T_c51c9a68_2d5a_11eb_88a8_af456fec449arow8_col3\" class=\"data row8 col3\" >-0.007368</td>\n",
       "                        <td id=\"T_c51c9a68_2d5a_11eb_88a8_af456fec449arow8_col4\" class=\"data row8 col4\" >0.611441</td>\n",
       "                        <td id=\"T_c51c9a68_2d5a_11eb_88a8_af456fec449arow8_col5\" class=\"data row8 col5\" >-0.209847</td>\n",
       "                        <td id=\"T_c51c9a68_2d5a_11eb_88a8_af456fec449arow8_col6\" class=\"data row8 col6\" >0.456022</td>\n",
       "                        <td id=\"T_c51c9a68_2d5a_11eb_88a8_af456fec449arow8_col7\" class=\"data row8 col7\" >-0.494588</td>\n",
       "                        <td id=\"T_c51c9a68_2d5a_11eb_88a8_af456fec449arow8_col8\" class=\"data row8 col8\" >1.000000</td>\n",
       "                        <td id=\"T_c51c9a68_2d5a_11eb_88a8_af456fec449arow8_col9\" class=\"data row8 col9\" >0.910228</td>\n",
       "                        <td id=\"T_c51c9a68_2d5a_11eb_88a8_af456fec449arow8_col10\" class=\"data row8 col10\" >0.464741</td>\n",
       "                        <td id=\"T_c51c9a68_2d5a_11eb_88a8_af456fec449arow8_col11\" class=\"data row8 col11\" >-0.444413</td>\n",
       "                        <td id=\"T_c51c9a68_2d5a_11eb_88a8_af456fec449arow8_col12\" class=\"data row8 col12\" >0.488676</td>\n",
       "                        <td id=\"T_c51c9a68_2d5a_11eb_88a8_af456fec449arow8_col13\" class=\"data row8 col13\" >-0.381626</td>\n",
       "            </tr>\n",
       "            <tr>\n",
       "                        <th id=\"T_c51c9a68_2d5a_11eb_88a8_af456fec449alevel0_row9\" class=\"row_heading level0 row9\" >TAX</th>\n",
       "                        <td id=\"T_c51c9a68_2d5a_11eb_88a8_af456fec449arow9_col0\" class=\"data row9 col0\" >0.582764</td>\n",
       "                        <td id=\"T_c51c9a68_2d5a_11eb_88a8_af456fec449arow9_col1\" class=\"data row9 col1\" >-0.314563</td>\n",
       "                        <td id=\"T_c51c9a68_2d5a_11eb_88a8_af456fec449arow9_col2\" class=\"data row9 col2\" >0.720760</td>\n",
       "                        <td id=\"T_c51c9a68_2d5a_11eb_88a8_af456fec449arow9_col3\" class=\"data row9 col3\" >-0.035587</td>\n",
       "                        <td id=\"T_c51c9a68_2d5a_11eb_88a8_af456fec449arow9_col4\" class=\"data row9 col4\" >0.668023</td>\n",
       "                        <td id=\"T_c51c9a68_2d5a_11eb_88a8_af456fec449arow9_col5\" class=\"data row9 col5\" >-0.292048</td>\n",
       "                        <td id=\"T_c51c9a68_2d5a_11eb_88a8_af456fec449arow9_col6\" class=\"data row9 col6\" >0.506456</td>\n",
       "                        <td id=\"T_c51c9a68_2d5a_11eb_88a8_af456fec449arow9_col7\" class=\"data row9 col7\" >-0.534432</td>\n",
       "                        <td id=\"T_c51c9a68_2d5a_11eb_88a8_af456fec449arow9_col8\" class=\"data row9 col8\" >0.910228</td>\n",
       "                        <td id=\"T_c51c9a68_2d5a_11eb_88a8_af456fec449arow9_col9\" class=\"data row9 col9\" >1.000000</td>\n",
       "                        <td id=\"T_c51c9a68_2d5a_11eb_88a8_af456fec449arow9_col10\" class=\"data row9 col10\" >0.460853</td>\n",
       "                        <td id=\"T_c51c9a68_2d5a_11eb_88a8_af456fec449arow9_col11\" class=\"data row9 col11\" >-0.441808</td>\n",
       "                        <td id=\"T_c51c9a68_2d5a_11eb_88a8_af456fec449arow9_col12\" class=\"data row9 col12\" >0.543993</td>\n",
       "                        <td id=\"T_c51c9a68_2d5a_11eb_88a8_af456fec449arow9_col13\" class=\"data row9 col13\" >-0.468536</td>\n",
       "            </tr>\n",
       "            <tr>\n",
       "                        <th id=\"T_c51c9a68_2d5a_11eb_88a8_af456fec449alevel0_row10\" class=\"row_heading level0 row10\" >PTRATIO</th>\n",
       "                        <td id=\"T_c51c9a68_2d5a_11eb_88a8_af456fec449arow10_col0\" class=\"data row10 col0\" >0.289946</td>\n",
       "                        <td id=\"T_c51c9a68_2d5a_11eb_88a8_af456fec449arow10_col1\" class=\"data row10 col1\" >-0.391679</td>\n",
       "                        <td id=\"T_c51c9a68_2d5a_11eb_88a8_af456fec449arow10_col2\" class=\"data row10 col2\" >0.383248</td>\n",
       "                        <td id=\"T_c51c9a68_2d5a_11eb_88a8_af456fec449arow10_col3\" class=\"data row10 col3\" >-0.121515</td>\n",
       "                        <td id=\"T_c51c9a68_2d5a_11eb_88a8_af456fec449arow10_col4\" class=\"data row10 col4\" >0.188933</td>\n",
       "                        <td id=\"T_c51c9a68_2d5a_11eb_88a8_af456fec449arow10_col5\" class=\"data row10 col5\" >-0.355501</td>\n",
       "                        <td id=\"T_c51c9a68_2d5a_11eb_88a8_af456fec449arow10_col6\" class=\"data row10 col6\" >0.261515</td>\n",
       "                        <td id=\"T_c51c9a68_2d5a_11eb_88a8_af456fec449arow10_col7\" class=\"data row10 col7\" >-0.232471</td>\n",
       "                        <td id=\"T_c51c9a68_2d5a_11eb_88a8_af456fec449arow10_col8\" class=\"data row10 col8\" >0.464741</td>\n",
       "                        <td id=\"T_c51c9a68_2d5a_11eb_88a8_af456fec449arow10_col9\" class=\"data row10 col9\" >0.460853</td>\n",
       "                        <td id=\"T_c51c9a68_2d5a_11eb_88a8_af456fec449arow10_col10\" class=\"data row10 col10\" >1.000000</td>\n",
       "                        <td id=\"T_c51c9a68_2d5a_11eb_88a8_af456fec449arow10_col11\" class=\"data row10 col11\" >-0.177383</td>\n",
       "                        <td id=\"T_c51c9a68_2d5a_11eb_88a8_af456fec449arow10_col12\" class=\"data row10 col12\" >0.374044</td>\n",
       "                        <td id=\"T_c51c9a68_2d5a_11eb_88a8_af456fec449arow10_col13\" class=\"data row10 col13\" >-0.507787</td>\n",
       "            </tr>\n",
       "            <tr>\n",
       "                        <th id=\"T_c51c9a68_2d5a_11eb_88a8_af456fec449alevel0_row11\" class=\"row_heading level0 row11\" >BK</th>\n",
       "                        <td id=\"T_c51c9a68_2d5a_11eb_88a8_af456fec449arow11_col0\" class=\"data row11 col0\" >-0.385064</td>\n",
       "                        <td id=\"T_c51c9a68_2d5a_11eb_88a8_af456fec449arow11_col1\" class=\"data row11 col1\" >0.175520</td>\n",
       "                        <td id=\"T_c51c9a68_2d5a_11eb_88a8_af456fec449arow11_col2\" class=\"data row11 col2\" >-0.356977</td>\n",
       "                        <td id=\"T_c51c9a68_2d5a_11eb_88a8_af456fec449arow11_col3\" class=\"data row11 col3\" >0.048788</td>\n",
       "                        <td id=\"T_c51c9a68_2d5a_11eb_88a8_af456fec449arow11_col4\" class=\"data row11 col4\" >-0.380051</td>\n",
       "                        <td id=\"T_c51c9a68_2d5a_11eb_88a8_af456fec449arow11_col5\" class=\"data row11 col5\" >0.128069</td>\n",
       "                        <td id=\"T_c51c9a68_2d5a_11eb_88a8_af456fec449arow11_col6\" class=\"data row11 col6\" >-0.273534</td>\n",
       "                        <td id=\"T_c51c9a68_2d5a_11eb_88a8_af456fec449arow11_col7\" class=\"data row11 col7\" >0.291512</td>\n",
       "                        <td id=\"T_c51c9a68_2d5a_11eb_88a8_af456fec449arow11_col8\" class=\"data row11 col8\" >-0.444413</td>\n",
       "                        <td id=\"T_c51c9a68_2d5a_11eb_88a8_af456fec449arow11_col9\" class=\"data row11 col9\" >-0.441808</td>\n",
       "                        <td id=\"T_c51c9a68_2d5a_11eb_88a8_af456fec449arow11_col10\" class=\"data row11 col10\" >-0.177383</td>\n",
       "                        <td id=\"T_c51c9a68_2d5a_11eb_88a8_af456fec449arow11_col11\" class=\"data row11 col11\" >1.000000</td>\n",
       "                        <td id=\"T_c51c9a68_2d5a_11eb_88a8_af456fec449arow11_col12\" class=\"data row11 col12\" >-0.366087</td>\n",
       "                        <td id=\"T_c51c9a68_2d5a_11eb_88a8_af456fec449arow11_col13\" class=\"data row11 col13\" >0.333461</td>\n",
       "            </tr>\n",
       "            <tr>\n",
       "                        <th id=\"T_c51c9a68_2d5a_11eb_88a8_af456fec449alevel0_row12\" class=\"row_heading level0 row12\" >LSTAT</th>\n",
       "                        <td id=\"T_c51c9a68_2d5a_11eb_88a8_af456fec449arow12_col0\" class=\"data row12 col0\" >0.455621</td>\n",
       "                        <td id=\"T_c51c9a68_2d5a_11eb_88a8_af456fec449arow12_col1\" class=\"data row12 col1\" >-0.412995</td>\n",
       "                        <td id=\"T_c51c9a68_2d5a_11eb_88a8_af456fec449arow12_col2\" class=\"data row12 col2\" >0.603800</td>\n",
       "                        <td id=\"T_c51c9a68_2d5a_11eb_88a8_af456fec449arow12_col3\" class=\"data row12 col3\" >-0.053929</td>\n",
       "                        <td id=\"T_c51c9a68_2d5a_11eb_88a8_af456fec449arow12_col4\" class=\"data row12 col4\" >0.590879</td>\n",
       "                        <td id=\"T_c51c9a68_2d5a_11eb_88a8_af456fec449arow12_col5\" class=\"data row12 col5\" >-0.613808</td>\n",
       "                        <td id=\"T_c51c9a68_2d5a_11eb_88a8_af456fec449arow12_col6\" class=\"data row12 col6\" >0.602339</td>\n",
       "                        <td id=\"T_c51c9a68_2d5a_11eb_88a8_af456fec449arow12_col7\" class=\"data row12 col7\" >-0.496996</td>\n",
       "                        <td id=\"T_c51c9a68_2d5a_11eb_88a8_af456fec449arow12_col8\" class=\"data row12 col8\" >0.488676</td>\n",
       "                        <td id=\"T_c51c9a68_2d5a_11eb_88a8_af456fec449arow12_col9\" class=\"data row12 col9\" >0.543993</td>\n",
       "                        <td id=\"T_c51c9a68_2d5a_11eb_88a8_af456fec449arow12_col10\" class=\"data row12 col10\" >0.374044</td>\n",
       "                        <td id=\"T_c51c9a68_2d5a_11eb_88a8_af456fec449arow12_col11\" class=\"data row12 col11\" >-0.366087</td>\n",
       "                        <td id=\"T_c51c9a68_2d5a_11eb_88a8_af456fec449arow12_col12\" class=\"data row12 col12\" >1.000000</td>\n",
       "                        <td id=\"T_c51c9a68_2d5a_11eb_88a8_af456fec449arow12_col13\" class=\"data row12 col13\" >-0.737663</td>\n",
       "            </tr>\n",
       "            <tr>\n",
       "                        <th id=\"T_c51c9a68_2d5a_11eb_88a8_af456fec449alevel0_row13\" class=\"row_heading level0 row13\" >MEDV</th>\n",
       "                        <td id=\"T_c51c9a68_2d5a_11eb_88a8_af456fec449arow13_col0\" class=\"data row13 col0\" >-0.388305</td>\n",
       "                        <td id=\"T_c51c9a68_2d5a_11eb_88a8_af456fec449arow13_col1\" class=\"data row13 col1\" >0.360445</td>\n",
       "                        <td id=\"T_c51c9a68_2d5a_11eb_88a8_af456fec449arow13_col2\" class=\"data row13 col2\" >-0.483725</td>\n",
       "                        <td id=\"T_c51c9a68_2d5a_11eb_88a8_af456fec449arow13_col3\" class=\"data row13 col3\" >0.175260</td>\n",
       "                        <td id=\"T_c51c9a68_2d5a_11eb_88a8_af456fec449arow13_col4\" class=\"data row13 col4\" >-0.427321</td>\n",
       "                        <td id=\"T_c51c9a68_2d5a_11eb_88a8_af456fec449arow13_col5\" class=\"data row13 col5\" >0.695360</td>\n",
       "                        <td id=\"T_c51c9a68_2d5a_11eb_88a8_af456fec449arow13_col6\" class=\"data row13 col6\" >-0.376955</td>\n",
       "                        <td id=\"T_c51c9a68_2d5a_11eb_88a8_af456fec449arow13_col7\" class=\"data row13 col7\" >0.249929</td>\n",
       "                        <td id=\"T_c51c9a68_2d5a_11eb_88a8_af456fec449arow13_col8\" class=\"data row13 col8\" >-0.381626</td>\n",
       "                        <td id=\"T_c51c9a68_2d5a_11eb_88a8_af456fec449arow13_col9\" class=\"data row13 col9\" >-0.468536</td>\n",
       "                        <td id=\"T_c51c9a68_2d5a_11eb_88a8_af456fec449arow13_col10\" class=\"data row13 col10\" >-0.507787</td>\n",
       "                        <td id=\"T_c51c9a68_2d5a_11eb_88a8_af456fec449arow13_col11\" class=\"data row13 col11\" >0.333461</td>\n",
       "                        <td id=\"T_c51c9a68_2d5a_11eb_88a8_af456fec449arow13_col12\" class=\"data row13 col12\" >-0.737663</td>\n",
       "                        <td id=\"T_c51c9a68_2d5a_11eb_88a8_af456fec449arow13_col13\" class=\"data row13 col13\" >1.000000</td>\n",
       "            </tr>\n",
       "    </tbody></table>"
      ],
      "text/plain": [
       "<pandas.io.formats.style.Styler at 0x1f06c1f6208>"
      ]
     },
     "execution_count": 15,
     "metadata": {},
     "output_type": "execute_result"
    }
   ],
   "source": [
    "# correlation analysis\n",
    "corrMatrix = df.corr()\n",
    "corrMatrix.style.background_gradient(cmap='Blues')"
   ]
  },
  {
   "cell_type": "code",
   "execution_count": 16,
   "metadata": {},
   "outputs": [],
   "source": [
    "X_copy = X.copy()"
   ]
  },
  {
   "cell_type": "code",
   "execution_count": 17,
   "metadata": {},
   "outputs": [],
   "source": [
    "del(X['CHAS'])\n",
    "del(X['DIS'])"
   ]
  },
  {
   "cell_type": "code",
   "execution_count": 18,
   "metadata": {},
   "outputs": [
    {
     "data": {
      "text/plain": [
       "Index(['CRIM', 'ZN', 'INDUS', 'NOX', 'RM', 'AGE', 'RAD', 'TAX', 'PTRATIO',\n",
       "       'BK', 'LSTAT'],\n",
       "      dtype='object')"
      ]
     },
     "execution_count": 18,
     "metadata": {},
     "output_type": "execute_result"
    }
   ],
   "source": [
    "X.columns"
   ]
  },
  {
   "cell_type": "code",
   "execution_count": 19,
   "metadata": {},
   "outputs": [
    {
     "name": "stdout",
     "output_type": "stream",
     "text": [
      "404\n",
      "102\n"
     ]
    }
   ],
   "source": [
    "# train/test split with scikit-learn\n",
    "from sklearn.model_selection import train_test_split\n",
    "\n",
    "X_train, X_test, Y_train, Y_test = train_test_split(X, Y, test_size=0.2, random_state=0, shuffle=True)\n",
    "print(len(X_train))\n",
    "print(len(X_test))"
   ]
  },
  {
   "cell_type": "code",
   "execution_count": 20,
   "metadata": {},
   "outputs": [],
   "source": [
    "from sklearn.preprocessing import PolynomialFeatures\n",
    "from sklearn.pipeline import Pipeline\n",
    "model = Pipeline([('poly', PolynomialFeatures(degree=2)),\n",
    "                  ('linear', linear_model.LinearRegression())])\n",
    "# fit to an order-2 polynomial data\n",
    "model = model.fit(X_train,Y_train)"
   ]
  },
  {
   "cell_type": "code",
   "execution_count": 21,
   "metadata": {},
   "outputs": [],
   "source": [
    "# Make predictions using the testing set\n",
    "Y_pred = model.predict(X_test)"
   ]
  },
  {
   "cell_type": "code",
   "execution_count": 22,
   "metadata": {},
   "outputs": [
    {
     "name": "stdout",
     "output_type": "stream",
     "text": [
      "Coefficients: \n",
      " [[-1.44213411e-07 -4.74713749e+00  3.16203733e-02 -3.70675405e+00\n",
      "   2.37888369e+02  3.13380224e+01  9.47019286e-01  8.73349739e-01\n",
      "   7.69997432e-02  3.89712231e+00 -4.97919471e-02  3.55537546e-01\n",
      "   3.37041463e-04  3.74511327e-02  5.67217061e-01 -6.95105691e-01\n",
      "   1.15866990e-01 -4.38196726e-03  3.69245850e-01 -2.76858453e-02\n",
      "   1.84009227e-01  1.91967448e-04  1.41968690e-02 -3.33370148e-04\n",
      "   2.82433055e-04 -8.54772257e-01  8.62906844e-04 -4.07842750e-04\n",
      "  -9.95112854e-05  1.90825875e-04 -6.25978715e-03  1.09949340e-03\n",
      "  -3.76316946e-03  2.32433200e-02  1.05579839e+00  1.28323812e-01\n",
      "   2.89138239e-03  3.75180396e-04  1.56360031e-03  1.09515089e-02\n",
      "   3.61590065e-03 -4.07639718e-02 -8.18556010e+01  2.73405431e+00\n",
      "  -6.14655787e-01 -1.19081881e-01  1.03694452e-02 -7.58324618e+00\n",
      "   1.74782438e-03  1.02857783e+00 -2.94605717e-01 -8.07663282e-02\n",
      "  -2.86612486e-02 -1.86932961e-02 -6.53232883e-01  2.68872699e-03\n",
      "  -1.09515683e-01  5.67437326e-04  2.27873657e-02 -6.51856801e-04\n",
      "   1.62067058e-03 -3.19613088e-04 -8.17784759e-03 -1.72873849e-01\n",
      "   9.15177422e-03 -1.29759216e-01 -1.35150002e-04 -3.86265875e-02\n",
      "  -4.24252767e-05  4.22436599e-03 -1.10931437e-04 -2.61289475e-04\n",
      "   2.39544202e-02  4.32654829e-03  1.59434158e-02 -8.74964290e-06\n",
      "  -5.14267898e-04  2.61551561e-02]]\n",
      "Mean squared error: 22.50\n",
      "Coefficient of determination: 0.66\n"
     ]
    }
   ],
   "source": [
    "# The coefficients\n",
    "print('Coefficients: \\n', model.named_steps['linear'].coef_)\n",
    "# The mean squared error\n",
    "print('Mean squared error: %.2f'\n",
    "      % metrics.mean_squared_error(Y_pred, Y_test))\n",
    "# The coefficient of determination: 1 is perfect prediction\n",
    "print('Coefficient of determination: %.2f'\n",
    "      % metrics.r2_score(Y_pred, Y_test))"
   ]
  },
  {
   "cell_type": "markdown",
   "metadata": {},
   "source": [
    "# Model 4"
   ]
  },
  {
   "cell_type": "code",
   "execution_count": 23,
   "metadata": {},
   "outputs": [],
   "source": [
    "X = X_copy.copy()"
   ]
  },
  {
   "cell_type": "code",
   "execution_count": 24,
   "metadata": {},
   "outputs": [
    {
     "data": {
      "text/plain": [
       "Index(['CRIM', 'ZN', 'INDUS', 'CHAS', 'NOX', 'RM', 'AGE', 'DIS', 'RAD', 'TAX',\n",
       "       'PTRATIO', 'BK', 'LSTAT'],\n",
       "      dtype='object')"
      ]
     },
     "execution_count": 24,
     "metadata": {},
     "output_type": "execute_result"
    }
   ],
   "source": [
    "X.columns"
   ]
  },
  {
   "cell_type": "code",
   "execution_count": 25,
   "metadata": {},
   "outputs": [
    {
     "name": "stdout",
     "output_type": "stream",
     "text": [
      "Num Features: 11\n",
      "Selected Features: [ True  True  True  True  True  True False  True  True  True  True False\n",
      "  True]\n",
      "Feature Ranking: [1 1 1 1 1 1 3 1 1 1 1 2 1]\n"
     ]
    }
   ],
   "source": [
    "# Recursive Feature Elimination - feature selection\n",
    "from sklearn.feature_selection import RFE\n",
    "model = linear_model.LinearRegression()\n",
    "rfe = RFE(model, n_features_to_select=11)\n",
    "fit = rfe.fit(X, Y)\n",
    "print(\"Num Features: %s\" % (fit.n_features_))\n",
    "print(\"Selected Features: %s\" % (fit.support_))\n",
    "print(\"Feature Ranking: %s\" % (fit.ranking_))"
   ]
  },
  {
   "cell_type": "code",
   "execution_count": 26,
   "metadata": {},
   "outputs": [],
   "source": [
    "del(X['AGE'])\n",
    "del(X['BK'])"
   ]
  },
  {
   "cell_type": "code",
   "execution_count": 27,
   "metadata": {},
   "outputs": [
    {
     "name": "stdout",
     "output_type": "stream",
     "text": [
      "404\n",
      "102\n"
     ]
    }
   ],
   "source": [
    "# train/test split with scikit-learn\n",
    "from sklearn.model_selection import train_test_split\n",
    "\n",
    "X_train, X_test, Y_train, Y_test = train_test_split(X, Y, test_size=0.2, random_state=0, shuffle=True)\n",
    "print(len(X_train))\n",
    "print(len(X_test))"
   ]
  },
  {
   "cell_type": "code",
   "execution_count": 28,
   "metadata": {},
   "outputs": [],
   "source": [
    "from sklearn.preprocessing import PolynomialFeatures\n",
    "from sklearn.pipeline import Pipeline\n",
    "model = Pipeline([('poly', PolynomialFeatures(degree=2)),\n",
    "                  ('linear', linear_model.LinearRegression())])\n",
    "# fit to an order-2 polynomial data\n",
    "model = model.fit(X_train,Y_train)"
   ]
  },
  {
   "cell_type": "code",
   "execution_count": 29,
   "metadata": {},
   "outputs": [],
   "source": [
    "# Make predictions using the testing set\n",
    "Y_pred = model.predict(X_test)"
   ]
  },
  {
   "cell_type": "code",
   "execution_count": 30,
   "metadata": {},
   "outputs": [
    {
     "name": "stdout",
     "output_type": "stream",
     "text": [
      "Coefficients: \n",
      " [[-1.19882601e+09 -5.34066408e+00  8.07771916e-02 -5.18652554e+00\n",
      "   3.19599258e+01  5.72552518e+01  1.56791897e+01 -1.45821332e+01\n",
      "   3.77385665e-01  9.90376309e-02  8.38669540e+00 -6.19530364e-01\n",
      "   2.04182062e-03  5.62619198e-01  1.93044242e-01  1.89739873e+00\n",
      "  -1.69239805e+00  2.14869705e-01  2.71824702e-01 -1.63077271e-01\n",
      "   9.89286998e-03 -1.13594693e-01  2.83153510e-02  3.74197032e-04\n",
      "  -2.49693517e-03  3.19894549e-02 -6.77663274e-01  2.75793442e-02\n",
      "  -4.96347206e-03  3.12148661e-03  6.79791838e-04 -1.06302793e-02\n",
      "   7.79745006e-04  3.76135826e-02  8.29577762e-01  3.76533562e+00\n",
      "   5.06840084e-01  2.31900485e-01  2.33269987e-02 -5.74013690e-04\n",
      "  -6.68647529e-02 -2.22667404e-02  3.19599258e+01 -3.26990492e+01\n",
      "  -5.41710674e+00  5.46565185e-01  1.22922951e+00 -7.00752889e-02\n",
      "  -2.67432953e-01 -2.87724243e-01 -3.98551914e+01  1.04036036e+00\n",
      "   1.14913219e+01  4.29562886e-01 -4.51084913e-02 -5.91142432e+00\n",
      "   1.02689418e+00  4.89611953e-01  1.18375718e+00  2.89153976e-01\n",
      "  -3.83945010e-02 -8.37055644e-01 -2.98802098e-02  2.91356689e-01\n",
      "  -2.10631624e-01 -3.28943629e-03 -8.36084969e-02 -2.61459854e-03\n",
      "  -1.33741274e-02 -5.66353291e-04 -6.09242035e-02 -1.84986347e-03\n",
      "   1.32684320e-06  1.03158037e-02 -2.39581833e-03 -6.48601104e-02\n",
      "   5.01933413e-03  2.76244499e-02]]\n",
      "Mean squared error: 19.47\n",
      "Coefficient of determination: 0.72\n"
     ]
    }
   ],
   "source": [
    "# The coefficients\n",
    "print('Coefficients: \\n', model.named_steps['linear'].coef_)\n",
    "# The mean squared error\n",
    "print('Mean squared error: %.2f'\n",
    "      % metrics.mean_squared_error(Y_pred, Y_test))\n",
    "# The coefficient of determination: 1 is perfect prediction\n",
    "print('Coefficient of determination: %.2f'\n",
    "      % metrics.r2_score(Y_pred, Y_test))"
   ]
  },
  {
   "cell_type": "markdown",
   "metadata": {},
   "source": [
    "# Model 5"
   ]
  },
  {
   "cell_type": "code",
   "execution_count": 31,
   "metadata": {},
   "outputs": [],
   "source": [
    "X = X_copy.copy()"
   ]
  },
  {
   "cell_type": "code",
   "execution_count": 32,
   "metadata": {},
   "outputs": [
    {
     "name": "stdout",
     "output_type": "stream",
     "text": [
      "Num Features: 10\n",
      "Selected Features: [ True  True  True  True  True  True False  True  True False  True False\n",
      "  True]\n",
      "Feature Ranking: [1 1 1 1 1 1 4 1 1 2 1 3 1]\n"
     ]
    }
   ],
   "source": [
    "# Recursive Feature Elimination - feature selection\n",
    "from sklearn.feature_selection import RFE\n",
    "model = linear_model.LinearRegression()\n",
    "rfe = RFE(model, n_features_to_select=10)\n",
    "fit = rfe.fit(X, Y)\n",
    "print(\"Num Features: %s\" % (fit.n_features_))\n",
    "print(\"Selected Features: %s\" % (fit.support_))\n",
    "print(\"Feature Ranking: %s\" % (fit.ranking_))"
   ]
  },
  {
   "cell_type": "code",
   "execution_count": 33,
   "metadata": {},
   "outputs": [
    {
     "data": {
      "text/plain": [
       "Index(['CRIM', 'ZN', 'INDUS', 'CHAS', 'NOX', 'RM', 'AGE', 'DIS', 'RAD', 'TAX',\n",
       "       'PTRATIO', 'BK', 'LSTAT'],\n",
       "      dtype='object')"
      ]
     },
     "execution_count": 33,
     "metadata": {},
     "output_type": "execute_result"
    }
   ],
   "source": [
    "X.columns"
   ]
  },
  {
   "cell_type": "code",
   "execution_count": 34,
   "metadata": {},
   "outputs": [],
   "source": [
    "del(X['AGE'])\n",
    "del(X['TAX'])\n",
    "del(X['BK'])"
   ]
  },
  {
   "cell_type": "code",
   "execution_count": 35,
   "metadata": {},
   "outputs": [
    {
     "name": "stdout",
     "output_type": "stream",
     "text": [
      "404\n",
      "102\n"
     ]
    }
   ],
   "source": [
    "# train/test split with scikit-learn\n",
    "from sklearn.model_selection import train_test_split\n",
    "\n",
    "X_train, X_test, Y_train, Y_test = train_test_split(X, Y, test_size=0.2, random_state=0, shuffle=True)\n",
    "print(len(X_train))\n",
    "print(len(X_test))"
   ]
  },
  {
   "cell_type": "code",
   "execution_count": 36,
   "metadata": {},
   "outputs": [],
   "source": [
    "from sklearn.preprocessing import PolynomialFeatures\n",
    "from sklearn.pipeline import Pipeline\n",
    "model = Pipeline([('poly', PolynomialFeatures(degree=2)),\n",
    "                  ('linear', linear_model.LinearRegression())])\n",
    "# fit to an order-2 polynomial data\n",
    "model = model.fit(X_train,Y_train)"
   ]
  },
  {
   "cell_type": "code",
   "execution_count": 37,
   "metadata": {},
   "outputs": [],
   "source": [
    "# Make predictions using the testing set\n",
    "Y_pred = model.predict(X_test)"
   ]
  },
  {
   "cell_type": "code",
   "execution_count": 38,
   "metadata": {},
   "outputs": [
    {
     "name": "stdout",
     "output_type": "stream",
     "text": [
      "Coefficients: \n",
      " [[-1.72794910e+11 -1.10063006e+01  7.14335111e-02 -3.66405403e+00\n",
      "   3.09077617e+01  5.90692903e+01  1.51283885e+01 -1.58886604e+01\n",
      "   2.99811738e+00  9.27030282e+00 -6.46162245e-01  9.57475573e-04\n",
      "   1.00549546e+00  3.08164162e-01  1.75596690e+00 -1.97352511e+00\n",
      "   2.70986621e-01  2.80367011e-01 -2.87856158e-02  2.19766728e-01\n",
      "   3.47497564e-02  1.92269693e-03  3.08350544e-03  2.40611440e-02\n",
      "  -5.36977670e-01 -2.72297526e-03 -4.02883927e-03  5.94038512e-03\n",
      "  -1.69227762e-03  6.58214584e-05  4.54346925e-02  3.78471289e-01\n",
      "   3.48178165e+00  1.90565218e-01  3.18558354e-01 -6.44860808e-02\n",
      "  -4.51425124e-02 -3.89901062e-02  3.09077617e+01 -3.61234531e+01\n",
      "  -5.93959483e+00  1.64102844e+00  2.49356541e-01 -6.12743876e-01\n",
      "  -2.88089184e-01 -5.16282669e+01 -7.85457988e-01  9.30847857e+00\n",
      "  -5.50548905e-01 -4.86013033e+00  6.85981862e-01  5.22408641e-01\n",
      "   1.28796477e+00 -2.86357529e-01 -1.21013852e+00  1.09368978e-01\n",
      "   3.04762363e-01 -2.74953946e-01 -2.67782023e-02 -7.57658392e-02\n",
      "   3.21745890e-02  4.47691760e-02 -4.45579201e-02  3.15282354e-02\n",
      "  -4.05824194e-02  3.26848786e-02]]\n",
      "Mean squared error: 24.22\n",
      "Coefficient of determination: 0.67\n"
     ]
    }
   ],
   "source": [
    "# The coefficients\n",
    "print('Coefficients: \\n', model.named_steps['linear'].coef_)\n",
    "# The mean squared error\n",
    "print('Mean squared error: %.2f'\n",
    "      % metrics.mean_squared_error(Y_pred, Y_test))\n",
    "# The coefficient of determination: 1 is perfect prediction\n",
    "print('Coefficient of determination: %.2f'\n",
    "      % metrics.r2_score(Y_pred, Y_test))"
   ]
  },
  {
   "cell_type": "markdown",
   "metadata": {},
   "source": [
    "# Model 6 "
   ]
  },
  {
   "cell_type": "code",
   "execution_count": 39,
   "metadata": {},
   "outputs": [],
   "source": [
    "X = X_copy.copy()"
   ]
  },
  {
   "cell_type": "code",
   "execution_count": 40,
   "metadata": {},
   "outputs": [
    {
     "name": "stdout",
     "output_type": "stream",
     "text": [
      "Num Features: 10\n",
      "Selected Features: [ True  True  True  True  True  True False  True  True False  True False\n",
      "  True]\n",
      "Feature Ranking: [1 1 1 1 1 1 4 1 1 2 1 3 1]\n"
     ]
    }
   ],
   "source": [
    "# Recursive Feature Elimination - feature selection\n",
    "from sklearn.feature_selection import RFE\n",
    "model = linear_model.LinearRegression()\n",
    "rfe = RFE(model, n_features_to_select=10)\n",
    "fit = rfe.fit(X, Y)\n",
    "print(\"Num Features: %s\" % (fit.n_features_))\n",
    "print(\"Selected Features: %s\" % (fit.support_))\n",
    "print(\"Feature Ranking: %s\" % (fit.ranking_))"
   ]
  },
  {
   "cell_type": "code",
   "execution_count": 41,
   "metadata": {},
   "outputs": [],
   "source": [
    "del(X['AGE'])\n",
    "del(X['TAX'])\n",
    "del(X['BK'])"
   ]
  },
  {
   "cell_type": "code",
   "execution_count": 42,
   "metadata": {},
   "outputs": [
    {
     "name": "stdout",
     "output_type": "stream",
     "text": [
      "404\n",
      "102\n"
     ]
    }
   ],
   "source": [
    "# train/test split with scikit-learn\n",
    "from sklearn.model_selection import train_test_split\n",
    "\n",
    "X_train, X_test, Y_train, Y_test = train_test_split(X, Y, test_size=0.2, random_state=1, shuffle=True)\n",
    "print(len(X_train))\n",
    "print(len(X_test))"
   ]
  },
  {
   "cell_type": "code",
   "execution_count": 43,
   "metadata": {},
   "outputs": [],
   "source": [
    "from sklearn.preprocessing import PolynomialFeatures\n",
    "from sklearn.pipeline import Pipeline\n",
    "model = Pipeline([('poly', PolynomialFeatures(degree=2)),\n",
    "                  ('linear', linear_model.LinearRegression())])\n",
    "# fit to an order-2 polynomial data\n",
    "model = model.fit(X_train,Y_train)"
   ]
  },
  {
   "cell_type": "code",
   "execution_count": 44,
   "metadata": {},
   "outputs": [],
   "source": [
    "# Make predictions using the testing set\n",
    "Y_pred = model.predict(X_test)"
   ]
  },
  {
   "cell_type": "code",
   "execution_count": 45,
   "metadata": {},
   "outputs": [
    {
     "name": "stdout",
     "output_type": "stream",
     "text": [
      "Coefficients: \n",
      " [[ 8.64460359e-10 -6.31022864e+00 -8.25947130e-02 -4.02060888e+00\n",
      "   3.28436741e+01  8.04986749e+01  2.00232819e+01 -1.27270225e+01\n",
      "   1.36397827e+00  1.13811127e+01 -3.25906603e-01  2.97663037e-03\n",
      "   3.77627521e-01  1.45783317e-01  2.47903144e+00 -2.10983716e+00\n",
      "   1.11092873e-01  1.08629989e-01 -2.01157960e-02  1.91537872e-01\n",
      "   2.34020416e-02  5.94402614e-04 -1.68405238e-03 -4.57188869e-02\n",
      "  -4.58064509e-01  3.16345922e-02 -1.05971204e-02  1.10000138e-02\n",
      "   2.46663329e-03  3.04384064e-04  1.46557494e-02 -9.09347465e-04\n",
      "   4.19373598e+00  1.92235309e-01  2.08038436e-01 -5.64009097e-02\n",
      "  -1.18374138e-03 -1.49471410e-02  3.28436741e+01 -3.55775575e+01\n",
      "  -5.31890828e+00  1.45935996e+00  6.28100059e-02 -9.06639080e-01\n",
      "  -2.01139656e-01 -4.94021986e+01 -4.45454773e+00  1.05969379e+01\n",
      "  -3.79185916e-01 -5.28091030e+00  8.55359757e-01  3.36270300e-01\n",
      "   4.03439220e-01 -2.19063989e-01 -9.39123917e-01 -1.68277748e-01\n",
      "   4.05169810e-01 -3.12193412e-01  3.84735071e-03  5.11937244e-02\n",
      "   1.23525994e-02  1.23232049e-01 -4.22338431e-02 -1.11625665e-01\n",
      "   9.34138281e-03  1.66141862e-02]]\n",
      "Mean squared error: 11.28\n",
      "Coefficient of determination: 0.87\n"
     ]
    }
   ],
   "source": [
    "# The coefficients\n",
    "print('Coefficients: \\n', model.named_steps['linear'].coef_)\n",
    "# The mean squared error\n",
    "print('Mean squared error: %.2f'\n",
    "      % metrics.mean_squared_error(Y_pred, Y_test))\n",
    "# The coefficient of determination: 1 is perfect prediction\n",
    "print('Coefficient of determination: %.2f'\n",
    "      % metrics.r2_score(Y_pred, Y_test))"
   ]
  },
  {
   "cell_type": "markdown",
   "metadata": {},
   "source": [
    "# Model 7"
   ]
  },
  {
   "cell_type": "code",
   "execution_count": 46,
   "metadata": {},
   "outputs": [],
   "source": [
    "X = X_copy.copy()"
   ]
  },
  {
   "cell_type": "code",
   "execution_count": 47,
   "metadata": {},
   "outputs": [
    {
     "name": "stdout",
     "output_type": "stream",
     "text": [
      "Num Features: 11\n",
      "Selected Features: [ True  True  True  True  True  True False  True  True  True  True False\n",
      "  True]\n",
      "Feature Ranking: [1 1 1 1 1 1 3 1 1 1 1 2 1]\n"
     ]
    }
   ],
   "source": [
    "# Recursive Feature Elimination - feature selection\n",
    "from sklearn.feature_selection import RFE\n",
    "model = linear_model.LinearRegression()\n",
    "rfe = RFE(model, n_features_to_select=11)\n",
    "fit = rfe.fit(X, Y)\n",
    "print(\"Num Features: %s\" % (fit.n_features_))\n",
    "print(\"Selected Features: %s\" % (fit.support_))\n",
    "print(\"Feature Ranking: %s\" % (fit.ranking_))"
   ]
  },
  {
   "cell_type": "code",
   "execution_count": 48,
   "metadata": {},
   "outputs": [],
   "source": [
    "del(X['AGE'])\n",
    "del(X['BK'])"
   ]
  },
  {
   "cell_type": "code",
   "execution_count": 49,
   "metadata": {},
   "outputs": [
    {
     "name": "stdout",
     "output_type": "stream",
     "text": [
      "404\n",
      "102\n"
     ]
    }
   ],
   "source": [
    "# train/test split with scikit-learn\n",
    "from sklearn.model_selection import train_test_split\n",
    "\n",
    "X_train, X_test, Y_train, Y_test = train_test_split(X, Y, test_size=0.2, random_state=2, shuffle=True)\n",
    "print(len(X_train))\n",
    "print(len(X_test))"
   ]
  },
  {
   "cell_type": "code",
   "execution_count": 50,
   "metadata": {},
   "outputs": [],
   "source": [
    "from sklearn.preprocessing import PolynomialFeatures\n",
    "from sklearn.pipeline import Pipeline\n",
    "model = Pipeline([('poly', PolynomialFeatures(degree=2)),\n",
    "                  ('linear', linear_model.LinearRegression())])\n",
    "# fit to an order-2 polynomial data\n",
    "model = model.fit(X_train,Y_train)"
   ]
  },
  {
   "cell_type": "code",
   "execution_count": 51,
   "metadata": {},
   "outputs": [],
   "source": [
    "# Make predictions using the testing set\n",
    "Y_pred = model.predict(X_test)"
   ]
  },
  {
   "cell_type": "code",
   "execution_count": 52,
   "metadata": {},
   "outputs": [
    {
     "name": "stdout",
     "output_type": "stream",
     "text": [
      "Coefficients: \n",
      " [[ 1.16518912e-07 -4.52457118e+00  1.14521993e-01 -4.66159973e+00\n",
      "   3.25232527e+01  9.78497796e+01  1.70137876e+01 -1.25124621e+01\n",
      "   1.54898707e+00 -5.96886615e-03  6.60282188e+00 -1.07744294e+00\n",
      "   2.57571779e-03  3.20594476e-01  3.09311399e-01  2.87876757e+00\n",
      "  -1.55568816e+00  5.80445018e-02  2.59726364e-02  5.67854652e-02\n",
      "  -3.15306901e-03 -1.64674070e-02  1.54948334e-02  3.17669935e-04\n",
      "  -4.75917894e-03 -6.28043125e-02 -1.14257714e-01  3.29692793e-03\n",
      "  -5.17942208e-03 -1.92718811e-03  4.82613160e-04 -1.12095095e-02\n",
      "   1.80128953e-05  1.54725640e-02 -5.12234604e-02  4.49789298e+00\n",
      "   2.01464666e-01  2.08730179e-01  2.09659321e-02 -8.25886752e-05\n",
      "   1.28830763e-02 -2.31771390e-02  3.25232527e+01 -3.99622726e+01\n",
      "  -4.87830425e+00  8.67078383e-01 -2.96795852e-01  1.23877481e-02\n",
      "  -8.52680838e-01 -2.47453152e-01 -8.96592555e+01 -4.34983486e+00\n",
      "   9.16208430e+00 -8.59937993e-01  2.78898460e-02 -4.32052734e+00\n",
      "   1.36179042e+00  3.98630139e-01  3.61790008e-01  1.19996305e-02\n",
      "  -1.58940878e-02 -5.82587980e-01 -1.16521555e-01  3.11655041e-01\n",
      "  -2.56412995e-01 -1.30894004e-03  1.14568478e-01  4.14731237e-02\n",
      "  -1.41402617e-01  5.14931016e-03  2.07741226e-02 -2.63168730e-02\n",
      "   1.33345979e-05  3.07128019e-03 -1.23420270e-03 -8.34236898e-02\n",
      "   4.11810685e-02  2.09752451e-02]]\n",
      "Mean squared error: 7.86\n",
      "Coefficient of determination: 0.90\n"
     ]
    }
   ],
   "source": [
    "# The coefficients\n",
    "print('Coefficients: \\n', model.named_steps['linear'].coef_)\n",
    "# The mean squared error\n",
    "print('Mean squared error: %.2f'\n",
    "      % metrics.mean_squared_error(Y_pred, Y_test))\n",
    "# The coefficient of determination: 1 is perfect prediction\n",
    "print('Coefficient of determination: %.2f'\n",
    "      % metrics.r2_score(Y_pred, Y_test))"
   ]
  },
  {
   "cell_type": "code",
   "execution_count": null,
   "metadata": {},
   "outputs": [],
   "source": []
  },
  {
   "cell_type": "raw",
   "metadata": {},
   "source": [
    "\tMSE\tR2\tNote\n",
    "Model 1\t33.45\t0.35\tLR\n",
    "Model 2\t25.22\t0.72\tLR + Poly\n",
    "Model 3\t22.5\t0.66\tLR + Poly + remove CHAS DIS\n",
    "Model 4\t19.47\t0.72\tLR + Poly + remove AGE BK\n",
    "Model 5\t24.22\t0.67\tLR + Poly + remove AGE BK TAX\n",
    "Model 6\t11.28\t0.87\tLR + Poly + remove AGE BK TAX + random_state=1\n",
    "Model 7\t7.86\t0.9\tLR + Poly + remove AGE BK + random_state=2"
   ]
  }
 ],
 "metadata": {
  "kernelspec": {
   "display_name": "Python 3",
   "language": "python",
   "name": "python3"
  },
  "language_info": {
   "codemirror_mode": {
    "name": "ipython",
    "version": 3
   },
   "file_extension": ".py",
   "mimetype": "text/x-python",
   "name": "python",
   "nbconvert_exporter": "python",
   "pygments_lexer": "ipython3",
   "version": "3.7.9"
  }
 },
 "nbformat": 4,
 "nbformat_minor": 4
}
